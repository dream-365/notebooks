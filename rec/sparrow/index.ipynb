{
 "cells": [
  {
   "cell_type": "markdown",
   "id": "00106e26-3320-4c7a-abf1-691363113944",
   "metadata": {},
   "source": [
    "## Sparrow Demo\n",
    "\n",
    "Envirement requirements:\n",
    "- docker\n",
    "- git\n",
    "- github\n",
    "- java\n",
    "- jupyter: spark\\tensorflow"
   ]
  },
  {
   "cell_type": "code",
   "execution_count": 7,
   "id": "e5a84549-7ec2-4c0f-8d1f-783a6ab00622",
   "metadata": {},
   "outputs": [],
   "source": [
    "import sys\n",
    "sys.path.append(\"..\")\n",
    "\n",
    "import utils\n",
    "import time\n",
    "\n",
    "# bootstrap\n",
    "bootstrap = utils.Bootstrap(\"../worksapce.config.json\")\n",
    "bootstrap.run()\n",
    "\n",
    "biz_tags = [{\"Key\": \"id\", \"Value\": \"rec-demo\"}]\n",
    "\n",
    "\n",
    "def start_notebook(instance_type=\"ecs.g6.large\", notebook=\"tensorflow-notebook\"):\n",
    "    aliyun_ecs_manager = utils.AliyunECSManager()\n",
    "    cmd_generator = utils.CommandGenerator()\n",
    "\n",
    "    # 创建ECS实例的设置\n",
    "    settings = aliyun_ecs_manager.create_default_settings()\n",
    "    settings.set_instance_type(instance_type)\n",
    "    \n",
    "    biz_tags = [{'Key': 'Project', 'Value': 'JupyterNotebook'}]\n",
    "    settings.set_biz_tags(biz_tags)\n",
    "    \n",
    "    # 创建ECS实例\n",
    "    vm_property = aliyun_ecs_manager.create_instance(settings)\n",
    "\n",
    "    # 等待ECS实例启动和初始化\n",
    "    time.sleep(20)  # 可能需要更长时间确保ECS实例完全启动\n",
    "\n",
    "    # 生成并执行设置环境的命令\n",
    "    cmd_content = \"\\n\".join([\n",
    "        cmd_generator.generate_install_docker_command(),\n",
    "        cmd_generator.generate_install_git_command(),\n",
    "        cmd_generator.generate_config_github_command(),\n",
    "        cmd_generator.generate_start_jupyter_command(name=notebook)\n",
    "    ])\n",
    "\n",
    "    aliyun_ecs_manager.execute_command(instance_id=vm_property.instance_id, cmd_content=cmd_content)\n",
    "\n",
    "    return aliyun_ecs_manager.get_instances(biz_tags)[0]"
   ]
  },
  {
   "cell_type": "markdown",
   "id": "442f1a53-9505-4633-ada0-566afa51fae6",
   "metadata": {},
   "source": [
    "### 1. Spark notebook"
   ]
  },
  {
   "cell_type": "code",
   "execution_count": null,
   "id": "25dee0ba-3fa5-43fd-8568-b12967899375",
   "metadata": {},
   "outputs": [],
   "source": [
    "vm = start_notebook(instance_type=\"ecs.g6.large\", notebook=\"spark-notebook\")"
   ]
  },
  {
   "cell_type": "markdown",
   "id": "75978837-72b2-4cb3-836c-aff89d6ab2cf",
   "metadata": {},
   "source": [
    "### 2. Tensorflow notebook"
   ]
  },
  {
   "cell_type": "code",
   "execution_count": 8,
   "id": "21e93af4-7a5a-43cf-a968-f6a4b7c44522",
   "metadata": {},
   "outputs": [],
   "source": [
    "vm = start_notebook(instance_type=\"ecs.g6.large\", notebook=\"tensorflow-notebook\")"
   ]
  },
  {
   "cell_type": "code",
   "execution_count": 10,
   "id": "cb2de31f-698f-4528-9411-8a5c7f974dae",
   "metadata": {},
   "outputs": [
    {
     "name": "stdout",
     "output_type": "stream",
     "text": [
      "\n",
      "ssh -o UserKnownHostsFile=/dev/null root@None\n",
      "\n"
     ]
    }
   ],
   "source": [
    "login_cmd = \"\"\"\n",
    "ssh -o UserKnownHostsFile=/dev/null root@{server}\n",
    "\"\"\".format(server=vm.public_ip)\n",
    "\n",
    "print(login_cmd)"
   ]
  },
  {
   "cell_type": "markdown",
   "id": "7954b69f-d587-4311-9d34-8b2c929ca8aa",
   "metadata": {},
   "source": [
    "### 2. login the instance"
   ]
  },
  {
   "cell_type": "markdown",
   "id": "a96871c0-eb60-4316-911a-21936cf11218",
   "metadata": {},
   "source": [
    "### 3. Clone code\n",
    "```bash\n",
    "mkdir code\n",
    "cd code\n",
    "git clone git@github.com:dream-365/SparrowRecSys.git\n",
    "```"
   ]
  },
  {
   "cell_type": "code",
   "execution_count": null,
   "id": "98988121-c561-47da-84d2-5f2a427583bd",
   "metadata": {},
   "outputs": [],
   "source": [
    "clone_code_cmd = \"\"\"\n",
    "mkdir work\n",
    "cd work\n",
    "git clone git@github.com:dream-365/SparrowRecSys.git\n",
    "\"\"\"\n",
    "\n",
    "aliyun_ecs_manager.execute_command(instance_id=vm_property.instance_id,\n",
    "                                  cmd_content=clone_code_cmd)"
   ]
  },
  {
   "cell_type": "markdown",
   "id": "aee0e481-526c-4b99-b648-5f260128b3bf",
   "metadata": {},
   "source": [
    "### 4. Compile prject\n",
    "```bash\n",
    "cd SparrowRecSys\n",
    "docker run -it --rm --name sparrow-maven-project \\\n",
    "-v \"$(pwd)\":/usr/src/sparrow \\\n",
    "-w /usr/src/sparrow maven:3.3-jdk-8 \\\n",
    "mvn package\n",
    "```"
   ]
  },
  {
   "cell_type": "code",
   "execution_count": null,
   "id": "1aa47387-9d94-44f4-bdee-cb3b0419d862",
   "metadata": {},
   "outputs": [],
   "source": [
    "compile_code_cmd = \"\"\"\n",
    "cd work/SparrowRecSys\n",
    "docker run -it --rm --name sparrow-maven-project \\\n",
    "-v \"$(pwd)\":/usr/src/sparrow \\\n",
    "-w /usr/src/sparrow maven:3.3-jdk-8 \\\n",
    "mvn package\n",
    "\"\"\"\n",
    "\n",
    "aliyun_ecs_manager.execute_command(instance_id=vm_property.instance_id,\n",
    "                                  cmd_content=compile_code_cmd)"
   ]
  },
  {
   "cell_type": "markdown",
   "id": "37b95674-8dc7-4fe5-afc4-074a9a3cfa8f",
   "metadata": {},
   "source": [
    "### 5. Run project\n",
    "\n",
    "```bash\n",
    "docker run --rm \\\n",
    "-v \"$PWD\":/usr/src/sparrow \\\n",
    "-p 9010:6010 \\\n",
    "-w /usr/src/sparrow openjdk:11 \\\n",
    "java -cp target/SparrowRecSys-1.0-SNAPSHOT-jar-with-dependencies.jar com.sparrowrecsys.online.RecSysServer\n",
    "```"
   ]
  },
  {
   "cell_type": "code",
   "execution_count": null,
   "id": "27765c81-b0fe-43ec-beb8-5d8c74b9554e",
   "metadata": {},
   "outputs": [],
   "source": [
    "run_project_cmd = \"\"\"\n",
    "cd work/SparrowRecSys\n",
    "docker run -d --rm \\\n",
    "-v \"$PWD\":/usr/src/sparrow \\\n",
    "-p 9010:6010 \\\n",
    "-w /usr/src/sparrow openjdk:11 \\\n",
    "java -cp target/SparrowRecSys-1.0-SNAPSHOT-jar-with-dependencies.jar com.sparrowrecsys.online.RecSysServer\n",
    "\"\"\"\n",
    "\n",
    "aliyun_ecs_manager.execute_command(instance_id=vm_property.instance_id,\n",
    "                                  cmd_content=run_project_cmd)"
   ]
  },
  {
   "cell_type": "markdown",
   "id": "a738be11-82f6-4e86-ae72-f4bc22134b70",
   "metadata": {},
   "source": [
    "### 7. Get recommendation\n",
    "\n",
    "e.g:\n",
    "```\n",
    "http://47.236.229.233:9010/getrecforyou?id=427&size=32&model=emb\n",
    "```"
   ]
  },
  {
   "cell_type": "markdown",
   "id": "3b943a6e-a9f5-4da2-a965-0483538972f9",
   "metadata": {},
   "source": [
    "### 6. Clenup "
   ]
  },
  {
   "cell_type": "code",
   "execution_count": 4,
   "id": "de350333-8aa7-4771-860c-53c741940a54",
   "metadata": {},
   "outputs": [],
   "source": [
    "aliyun_ecs_manager = utils.AliyunECSManager()\n",
    "aliyun_ecs_manager.clean(biz_tags)"
   ]
  },
  {
   "cell_type": "code",
   "execution_count": null,
   "id": "caf379f8-9c16-4088-a1d0-a38f2b9ee2fd",
   "metadata": {},
   "outputs": [],
   "source": []
  }
 ],
 "metadata": {
  "kernelspec": {
   "display_name": "Python 3 (ipykernel)",
   "language": "python",
   "name": "python3"
  },
  "language_info": {
   "codemirror_mode": {
    "name": "ipython",
    "version": 3
   },
   "file_extension": ".py",
   "mimetype": "text/x-python",
   "name": "python",
   "nbconvert_exporter": "python",
   "pygments_lexer": "ipython3",
   "version": "3.10.13"
  }
 },
 "nbformat": 4,
 "nbformat_minor": 5
}
