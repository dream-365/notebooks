{
 "cells": [
  {
   "cell_type": "code",
   "execution_count": 4,
   "id": "2865346b-be20-4c2c-bbd3-3d83870d39b1",
   "metadata": {},
   "outputs": [],
   "source": [
    "# 1. 环境配置\n",
    "from getpass import getpass\n",
    "import os\n",
    "\n",
    "# 如果没配置api key，获取api key\n",
    "if os.getenv(\"DASHSCOPE_API_KEY\") is None:\n",
    "    os.environ[\"DASHSCOPE_API_KEY\"] = getpass()"
   ]
  },
  {
   "cell_type": "code",
   "execution_count": 5,
   "id": "b1bd12d0-1fa6-40a3-9c03-3d0e15cd8622",
   "metadata": {},
   "outputs": [],
   "source": [
    "# 2. 导入依赖库\n",
    "from langchain_community.llms import Tongyi"
   ]
  },
  {
   "cell_type": "code",
   "execution_count": 6,
   "id": "72b58d3b-725b-4e5d-ac19-55500d2a97c9",
   "metadata": {},
   "outputs": [
    {
     "name": "stdout",
     "output_type": "stream",
     "text": [
      "当然可以！杭州是一座历史悠久、风景秀丽的城市，位于中国东部浙江省北部，是该省的省会。这座城市以其自然美景和文化遗产而闻名遐迩。\n",
      "\n",
      "### 自然景观\n",
      "- **西湖**：这是杭州最著名的景点之一，被列入了世界文化遗产名录。西湖周围有许多美丽的景点，如苏堤春晓、断桥残雪等。\n",
      "- **西溪湿地公园**：这是一个相对原始的湿地生态系统，非常适合喜欢亲近自然的游客。\n",
      "\n",
      "### 文化遗产\n",
      "- **灵隐寺**：这是一座有着1600多年历史的佛教寺庙，位于飞来峰下，是江南地区最重要的佛教寺庙之一。\n",
      "- **六和塔**：位于钱塘江边的一座古塔，建于宋代，登塔可以俯瞰钱塘江的壮丽景色。\n",
      "- **中国茶叶博物馆**：了解中国茶文化的好去处，不仅可以学习到关于茶的知识，还能亲自体验泡茶的乐趣。\n",
      "\n",
      "### 美食\n",
      "杭州的美食也非常有名，比如：\n",
      "- **西湖醋鱼**：以西湖鲤鱼为主要原料，味道酸甜可口。\n",
      "- **龙井虾仁**：将新鲜虾仁与龙井茶叶相结合，清新爽口。\n",
      "- **叫花鸡**：用特制的方法烹制的鸡肉，外皮酥脆，肉质鲜嫩。\n",
      "\n",
      "### 购物\n",
      "杭州也是购物的好地方，特别是丝绸和茶叶非常出名。可以去河坊街或者湖滨路逛逛，体验一下当地的商业氛围。\n",
      "\n",
      "希望这些信息能帮助你更好地了解杭州，如果需要更详细的行程规划，请随时告诉我！\n"
     ]
    }
   ],
   "source": [
    "# 3. 调用\n",
    "\n",
    "llm = Tongyi(\n",
    "    model=\"qwen-turbo\"\n",
    ")\n",
    "\n",
    "messages = [\n",
    "    (\"system\", \"你是一个旅行助理，为用户规划旅游的行程\"),\n",
    "    (\"human\", \"请介绍下杭州\"),\n",
    "]\n",
    "\n",
    "response = llm.invoke(messages)\n",
    "\n",
    "print(response)"
   ]
  },
  {
   "cell_type": "code",
   "execution_count": null,
   "id": "22ee4033-cab9-44b5-b975-872d1ee3d126",
   "metadata": {},
   "outputs": [],
   "source": []
  }
 ],
 "metadata": {
  "kernelspec": {
   "display_name": "Python 3 (ipykernel)",
   "language": "python",
   "name": "python3"
  },
  "language_info": {
   "codemirror_mode": {
    "name": "ipython",
    "version": 3
   },
   "file_extension": ".py",
   "mimetype": "text/x-python",
   "name": "python",
   "nbconvert_exporter": "python",
   "pygments_lexer": "ipython3",
   "version": "3.8.10"
  }
 },
 "nbformat": 4,
 "nbformat_minor": 5
}
