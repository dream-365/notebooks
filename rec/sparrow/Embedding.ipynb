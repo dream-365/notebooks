{
 "cells": [
  {
   "cell_type": "code",
   "execution_count": null,
   "id": "6154ed28-6571-4c87-bfcd-5840ee85514f",
   "metadata": {},
   "outputs": [],
   "source": [
    "from pyspark import SparkConf\n",
    "from pyspark.sql import SparkSession\n",
    "import Embedding\n",
    "\n",
    "conf = SparkConf().setAppName('ctrModel').setMaster('local[4]')\n",
    "spark = SparkSession.builder.config(conf=conf).getOrCreate()\n",
    "    # Change to your own filepath\n",
    "\n",
    "rawSampleDataPath = \"ratings.csv\"\n",
    "embLength = 10\n",
    "samples = Embedding.processItemSequence(spark, rawSampleDataPath)\n",
    "model = Embedding.trainItem2vec(spark, samples, embLength,\n",
    "                          embOutputPath=\"emb/item2vecEmb.csv\", saveToRedis=False,\n",
    "                          redisKeyPrefix=\"i2vEmb\")\n",
    "Embedding.graphEmb(samples, spark, embLength, embOutputFilename=\"itemGraphEmb.csv\",\n",
    "             saveToRedis=True, redisKeyPrefix=\"graphEmb\")\n",
    "Embedding.generateUserEmb(spark, rawSampleDataPath, model, embLength,\n",
    "                    embOutputPath=\"emb/userEmb.csv\", saveToRedis=False,\n",
    "                    redisKeyPrefix=\"uEmb\")"
   ]
  },
  {
   "cell_type": "code",
   "execution_count": null,
   "id": "fe4a8c47-ca59-4e5f-845e-4f1ef9a6b808",
   "metadata": {},
   "outputs": [],
   "source": [
    "'/'.join(embOutputPath.split('/')[:-1])"
   ]
  }
 ],
 "metadata": {
  "kernelspec": {
   "display_name": "Python 3 (ipykernel)",
   "language": "python",
   "name": "python3"
  },
  "language_info": {
   "codemirror_mode": {
    "name": "ipython",
    "version": 3
   },
   "file_extension": ".py",
   "mimetype": "text/x-python",
   "name": "python",
   "nbconvert_exporter": "python",
   "pygments_lexer": "ipython3",
   "version": "3.11.7"
  }
 },
 "nbformat": 4,
 "nbformat_minor": 5
}
