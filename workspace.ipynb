{
 "cells": [
  {
   "cell_type": "markdown",
   "id": "ea24fe21-f4ff-49ae-8182-1a8f1b11267e",
   "metadata": {},
   "source": [
    "### 1. Start an instance"
   ]
  },
  {
   "cell_type": "code",
   "execution_count": null,
   "id": "388b2dbd-4a7a-47d1-94e3-4352c38ccb54",
   "metadata": {},
   "outputs": [],
   "source": [
    "import utils\n",
    "import time\n",
    "\n",
    "# bootstrap\n",
    "bootstrap = utils.Bootstrap(\"worksapce.config.json\")\n",
    "bootstrap.run()\n",
    "\n",
    "biz_tags = [{\"Key\": \"role\", \"Value\": \"proxy-node\"}]"
   ]
  },
  {
   "cell_type": "code",
   "execution_count": null,
   "id": "db96a85e-9f21-492e-9621-1567d238fe1f",
   "metadata": {},
   "outputs": [],
   "source": [
    "aliyun_ecs_manager = utils.AliyunECSManager()\n",
    "cmd_generator = utils.CommandGenerator()\n",
    "\n",
    "aliyun_ecs_manager.clean(biz_tags)\n",
    "\n",
    "settings = aliyun_ecs_manager.create_default_settings()\n",
    "settings.set_biz_tags(biz_tags)\n",
    "\n",
    "vm_property = aliyun_ecs_manager.create_instance(settings)\n",
    "\n",
    "time.sleep(30)\n",
    "\n",
    "cmd_content = \"\\n\".join([\n",
    "    cmd_generator.generate_install_docker_command(),\n",
    "    cmd_generator.generate_install_proxy_command(),\n",
    "    cmd_generator.generate_install_git_command(),\n",
    "    cmd_generator.generate_config_github_command(),\n",
    "    cmd_generator.generate_start_jupyter_command()\n",
    "])\n",
    "\n",
    "print(vm_property.instance_id)\n",
    "\n",
    "aliyun_ecs_manager.execute_command(instance_id=vm_property.instance_id,\n",
    "                                  cmd_content=cmd_content)"
   ]
  },
  {
   "cell_type": "markdown",
   "id": "87344373-1c36-4bb1-bdc9-ac37e12d0f19",
   "metadata": {},
   "source": [
    "### 2. Get Config"
   ]
  },
  {
   "cell_type": "code",
   "execution_count": null,
   "id": "e7adde79-43b7-4cbb-a77f-e0081ee074e2",
   "metadata": {},
   "outputs": [],
   "source": [
    "aliyun_ecs_manager = utils.AliyunECSManager()\n",
    "vm_properties = aliyun_ecs_manager.get_instances(biz_tags=biz_tags)\n",
    "\n",
    "proxy_setting_cmd = \"\"\"\n",
    "sslocal -s {server} \\\n",
    "-p 8000 \\\n",
    "-l 1080 \\\n",
    "-k passIt2020 \\\n",
    "-m aes-256-cfb \\\n",
    "-t 600\n",
    "\"\"\".format(server=vm_properties[0].public_ip)\n",
    "\n",
    "modify_hosts_cmd = \"\"\"\n",
    "modify_hosts add agent {server}\n",
    "\"\"\".format(server=vm_properties[0].public_ip)\n",
    "\n",
    "print(proxy_setting_cmd)\n",
    "print(modify_hosts_cmd)"
   ]
  },
  {
   "cell_type": "markdown",
   "id": "7026fc4d-8fca-4eab-b1c8-ea70149ffdef",
   "metadata": {},
   "source": [
    "### 3. Add agent to local hosts (optional)\n",
    "1) Save the following script to a file named \"/opt/custom/modify_hosts.sh\":\n",
    "```bash\n",
    "#!/bin/bash\n",
    "\n",
    "# 函数：添加 hosts 条目\n",
    "add_host() {\n",
    "    # 检查是否已存在相同的主机名，如果存在则删除\n",
    "    remove_host \"$2\"\n",
    "    echo \"$1 $2\" | sudo tee -a /etc/hosts >/dev/null\n",
    "}\n",
    "\n",
    "# 函数：删除 hosts 条目\n",
    "remove_host() {\n",
    "    sudo sed -i '' \"/$1/d\" /etc/hosts\n",
    "}\n",
    "\n",
    "# 主程序\n",
    "\n",
    "# 检查参数数量\n",
    "if [ $# -lt 2 ]; then\n",
    "    echo \"Usage: $0 [add|remove] [hostname] [IP]\"\n",
    "    exit 1\n",
    "fi\n",
    "\n",
    "action=\"$1\"\n",
    "hostname=\"$2\"\n",
    "ip=\"$3\"\n",
    "\n",
    "# 根据操作调用相应函数\n",
    "case \"$action\" in\n",
    "    \"add\")\n",
    "        add_host \"$ip\" \"$hostname\"\n",
    "        echo \"Added $hostname to hosts file.\"\n",
    "        ;;\n",
    "    \"remove\")\n",
    "        remove_host \"$hostname\"\n",
    "        echo \"Removed $hostname from hosts file.\"\n",
    "        ;;\n",
    "    *)\n",
    "        echo \"Invalid action. Please use 'add' or 'remove'.\"\n",
    "        exit 1\n",
    "        ;;\n",
    "esac\n",
    "\n",
    "exit 0\n",
    "```\n",
    "3) Grant executing permission\n",
    "```bash\n",
    "chmod +x /opt/custom/modify_hosts.sh\n",
    "```\n",
    "\n",
    "4) Open your bashrc\n",
    "```bash\n",
    "vim ~/.zshrc\n",
    "```\n",
    "\n",
    "5) add alias \"modify_hosts\"\n",
    "```bash\n",
    "alias modify_hosts=\"/opt/custom/modify_hosts.sh\"\n",
    "```\n",
    "\n",
    "6) activate\n",
    "```bash\n",
    "source ~/.zshrc\n",
    "```"
   ]
  },
  {
   "cell_type": "markdown",
   "id": "3d8eb845-ed01-48c9-bf92-4beac53f6261",
   "metadata": {},
   "source": [
    "### 4. Clean up"
   ]
  },
  {
   "cell_type": "code",
   "execution_count": null,
   "id": "c37433d5-04a7-474e-a024-5305d2d9ad92",
   "metadata": {},
   "outputs": [],
   "source": [
    "aliyun_ecs_manager = utils.AliyunECSManager()\n",
    "aliyun_ecs_manager.clean(biz_tags)"
   ]
  },
  {
   "cell_type": "code",
   "execution_count": null,
   "id": "539588bd-3193-46dd-ba39-2e1564381fef",
   "metadata": {},
   "outputs": [],
   "source": []
  }
 ],
 "metadata": {
  "kernelspec": {
   "display_name": "Python 3 (ipykernel)",
   "language": "python",
   "name": "python3"
  },
  "language_info": {
   "codemirror_mode": {
    "name": "ipython",
    "version": 3
   },
   "file_extension": ".py",
   "mimetype": "text/x-python",
   "name": "python",
   "nbconvert_exporter": "python",
   "pygments_lexer": "ipython3",
   "version": "3.10.13"
  }
 },
 "nbformat": 4,
 "nbformat_minor": 5
}
