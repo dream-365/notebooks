{
 "cells": [
  {
   "cell_type": "markdown",
   "id": "a466ef44-8f2b-4209-bff7-dcecb4e8310b",
   "metadata": {},
   "source": [
    "### SenseVoice\n",
    "```\n",
    "git clone https://github.com/FunAudioLLM/SenseVoice\n",
    "```"
   ]
  },
  {
   "cell_type": "code",
   "execution_count": null,
   "id": "8e5585a9-eac5-4b95-b1f4-4715dde3901a",
   "metadata": {},
   "outputs": [],
   "source": [
    "from funasr import AutoModel\n",
    "from funasr.utils.postprocess_utils import rich_transcription_postprocess\n",
    "\n",
    "model_dir = \"iic/SenseVoiceSmall\"\n",
    "\n",
    "\n",
    "model = AutoModel(\n",
    "    model=model_dir,\n",
    "    trust_remote_code=True,\n",
    "    remote_code=\"./model.py\",    \n",
    "    vad_model=\"fsmn-vad\",\n",
    "    vad_kwargs={\"max_single_segment_time\": 30000},\n",
    "    # device=\"cuda:0\",\n",
    ")"
   ]
  },
  {
   "cell_type": "code",
   "execution_count": null,
   "id": "413e0c01-feb5-40ae-b243-bc85f7d84130",
   "metadata": {},
   "outputs": [],
   "source": [
    "# en\n",
    "res = model.generate(\n",
    "    input=f\"{model.model_path}/example/en.mp3\",\n",
    "    cache={},\n",
    "    language=\"auto\",  # \"zh\", \"en\", \"yue\", \"ja\", \"ko\", \"nospeech\"\n",
    "    use_itn=True,\n",
    "    batch_size_s=60,\n",
    "    merge_vad=True,  #\n",
    "    merge_length_s=15,\n",
    ")\n",
    "text = rich_transcription_postprocess(res[0][\"text\"])\n",
    "print(text)"
   ]
  }
 ],
 "metadata": {
  "kernelspec": {
   "display_name": "Python 3 (ipykernel)",
   "language": "python",
   "name": "python3"
  },
  "language_info": {
   "codemirror_mode": {
    "name": "ipython",
    "version": 3
   },
   "file_extension": ".py",
   "mimetype": "text/x-python",
   "name": "python",
   "nbconvert_exporter": "python",
   "pygments_lexer": "ipython3",
   "version": "3.8.10"
  }
 },
 "nbformat": 4,
 "nbformat_minor": 5
}
