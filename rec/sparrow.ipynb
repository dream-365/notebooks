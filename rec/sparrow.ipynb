{
 "cells": [
  {
   "cell_type": "markdown",
   "id": "00106e26-3320-4c7a-abf1-691363113944",
   "metadata": {},
   "source": [
    "### 1. Start an instance\n",
    "\n",
    "Envirement requirements:\n",
    "- docker\n",
    "- git\n",
    "- github"
   ]
  },
  {
   "cell_type": "code",
   "execution_count": null,
   "id": "e5a84549-7ec2-4c0f-8d1f-783a6ab00622",
   "metadata": {},
   "outputs": [],
   "source": [
    "import sys\n",
    "sys.path.append(\"..\")\n",
    "\n",
    "import utils\n",
    "import time\n",
    "\n",
    "# bootstrap\n",
    "bootstrap = utils.Bootstrap(\"../worksapce.config.json\")\n",
    "bootstrap.run()\n",
    "\n",
    "biz_tags = [{\"Key\": \"id\", \"Value\": \"rec-demo\"}]"
   ]
  },
  {
   "cell_type": "code",
   "execution_count": null,
   "id": "25dee0ba-3fa5-43fd-8568-b12967899375",
   "metadata": {},
   "outputs": [],
   "source": [
    "aliyun_ecs_manager = utils.AliyunECSManager()\n",
    "cmd_generator = utils.CommandGenerator()\n",
    "\n",
    "aliyun_ecs_manager.clean(biz_tags)\n",
    "\n",
    "settings = aliyun_ecs_manager.create_default_settings()\n",
    "settings.set_biz_tags(biz_tags)\n",
    "vm_property = aliyun_ecs_manager.create_instance(settings)\n",
    "\n",
    "time.sleep(20)\n",
    "\n",
    "cmd_content = \"\\n\".join([\n",
    "    cmd_generator.generate_install_docker_command(),\n",
    "    cmd_generator.generate_install_git_command(),\n",
    "    cmd_generator.generate_config_github_command()\n",
    "])\n",
    "\n",
    "aliyun_ecs_manager.execute_command(instance_id=vm_property.instance_id,\n",
    "                                  cmd_content=cmd_content)"
   ]
  },
  {
   "cell_type": "markdown",
   "id": "7954b69f-d587-4311-9d34-8b2c929ca8aa",
   "metadata": {},
   "source": [
    "### 2. login the instance"
   ]
  },
  {
   "cell_type": "code",
   "execution_count": null,
   "id": "e13471da-71e4-4c4a-8ba6-3f0e52ea05d0",
   "metadata": {},
   "outputs": [],
   "source": [
    "aliyun_ecs_manager = utils.AliyunECSManager()\n",
    "vm_properties = aliyun_ecs_manager.get_instances(biz_tags=biz_tags)\n",
    "\n",
    "login_cmd = \"\"\"\n",
    "ssh -o UserKnownHostsFile=/dev/null root@{server}\n",
    "\"\"\".format(server=vm_properties[0].public_ip)\n",
    "\n",
    "print(login_cmd)"
   ]
  },
  {
   "cell_type": "markdown",
   "id": "a96871c0-eb60-4316-911a-21936cf11218",
   "metadata": {},
   "source": [
    "### 3. Clone code\n",
    "```bash\n",
    "mkdir code\n",
    "cd code\n",
    "git clone git@github.com:dream-365/SparrowRecSys.git\n",
    "```"
   ]
  },
  {
   "cell_type": "markdown",
   "id": "aee0e481-526c-4b99-b648-5f260128b3bf",
   "metadata": {},
   "source": [
    "### 4. Compile prject\n",
    "```bash\n",
    "cd SparrowRecSys\n",
    "docker run -it --rm --name sparrow-maven-project \\\n",
    "-v \"$(pwd)\":/usr/src/sparrow \\\n",
    "-w /usr/src/sparrow maven:3.3-jdk-8 \\\n",
    "mvn package\n",
    "```"
   ]
  },
  {
   "cell_type": "markdown",
   "id": "37b95674-8dc7-4fe5-afc4-074a9a3cfa8f",
   "metadata": {},
   "source": [
    "### 5. Run project\n",
    "\n",
    "```bash\n",
    "docker run --rm \\\n",
    "-v \"$PWD\":/usr/src/sparrow \\\n",
    "-p 9010:6010 \\\n",
    "-w /usr/src/sparrow openjdk:11 \\\n",
    "java -cp target/SparrowRecSys-1.0-SNAPSHOT-jar-with-dependencies.jar com.sparrowrecsys.online.RecSysServer\n",
    "```"
   ]
  },
  {
   "cell_type": "markdown",
   "id": "3b943a6e-a9f5-4da2-a965-0483538972f9",
   "metadata": {},
   "source": [
    "### 6. Clenup "
   ]
  },
  {
   "cell_type": "code",
   "execution_count": null,
   "id": "de350333-8aa7-4771-860c-53c741940a54",
   "metadata": {},
   "outputs": [],
   "source": [
    "aliyun_ecs_manager = utils.AliyunECSManager()\n",
    "aliyun_ecs_manager.clean(biz_tags)"
   ]
  },
  {
   "cell_type": "code",
   "execution_count": null,
   "id": "9ffbd70b-004e-43ce-b47a-a659cf414481",
   "metadata": {},
   "outputs": [],
   "source": []
  }
 ],
 "metadata": {
  "kernelspec": {
   "display_name": "Python 3 (ipykernel)",
   "language": "python",
   "name": "python3"
  },
  "language_info": {
   "codemirror_mode": {
    "name": "ipython",
    "version": 3
   },
   "file_extension": ".py",
   "mimetype": "text/x-python",
   "name": "python",
   "nbconvert_exporter": "python",
   "pygments_lexer": "ipython3",
   "version": "3.10.13"
  }
 },
 "nbformat": 4,
 "nbformat_minor": 5
}
