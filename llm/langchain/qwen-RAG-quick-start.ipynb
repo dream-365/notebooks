{
 "cells": [
  {
   "cell_type": "markdown",
   "id": "ea15f1c8-ef96-4248-a19d-3f6915d9c76e",
   "metadata": {},
   "source": [
    "###### 依赖模块安装"
   ]
  },
  {
   "cell_type": "code",
   "execution_count": 1,
   "id": "2fe75fe8-4de8-413d-9cb2-fa94761b314a",
   "metadata": {},
   "outputs": [],
   "source": [
    "! pip install --upgrade --quiet langchain\n",
    "! pip install --upgrade --quiet dashscope\n",
    "\n",
    "# pdf文档的读取和ocr识别\n",
    "! pip install --upgrade --quiet pypdf rapidocr-onnxruntime\n",
    "\n",
    "# 向量检索引擎\n",
    "! pip install --upgrade --quiet faiss-cpu"
   ]
  },
  {
   "cell_type": "markdown",
   "id": "0266147d-338d-46d8-935d-151540f78846",
   "metadata": {},
   "source": [
    "#####  DASHSCOPE 配置"
   ]
  },
  {
   "cell_type": "code",
   "execution_count": 2,
   "id": "e515f5fc-6fba-4e1b-8785-df2d91a5fa6f",
   "metadata": {},
   "outputs": [],
   "source": [
    "from getpass import getpass\n",
    "import os\n",
    "\n",
    "# 如果没配置api key，获取api key\n",
    "if os.getenv(\"DASHSCOPE_API_KEY\") is None:\n",
    "    os.environ[\"DASHSCOPE_API_KEY\"] = getpass()"
   ]
  },
  {
   "cell_type": "markdown",
   "id": "16fe07ce-2763-4d9d-86ea-2732e91377b0",
   "metadata": {},
   "source": [
    "##### 引入相关包"
   ]
  },
  {
   "cell_type": "code",
   "execution_count": 3,
   "id": "d1805efa-6b2e-4edd-a585-8318d61f612a",
   "metadata": {},
   "outputs": [],
   "source": [
    "from langchain_community.document_loaders import PyPDFLoader\n",
    "from langchain_text_splitters import RecursiveCharacterTextSplitter\n",
    "from langchain_community.vectorstores import FAISS\n",
    "from langchain_community.embeddings import DashScopeEmbeddings\n",
    "\n",
    "from langchain_community.llms import Tongyi\n",
    "from langchain_core.prompts import PromptTemplate\n",
    "from langchain_core.output_parsers import StrOutputParser\n",
    "from langchain_core.runnables import RunnablePassthrough\n",
    "import os"
   ]
  },
  {
   "cell_type": "markdown",
   "id": "b0104eb8-59dd-4f74-8fbd-a51236049bb8",
   "metadata": {},
   "source": [
    "##### 数据准备"
   ]
  },
  {
   "cell_type": "code",
   "execution_count": 4,
   "id": "9f15868e-4487-4f5c-a831-74ed6779293c",
   "metadata": {},
   "outputs": [],
   "source": [
    "pdf_loader = PyPDFLoader('../1706.03762v7.pdf', extract_images=True)\n",
    "\n",
    "text_splitter = RecursiveCharacterTextSplitter(\n",
    "   chunk_size=1000, chunk_overlap=200, add_start_index=True\n",
    ")\n",
    "\n",
    "pages = pdf_loader.load_and_split()"
   ]
  },
  {
   "cell_type": "markdown",
   "id": "960174c9-9cc8-4772-ad8e-1f08149674fd",
   "metadata": {},
   "source": [
    "##### 词嵌入并保存到向量数据库"
   ]
  },
  {
   "cell_type": "code",
   "execution_count": 5,
   "id": "4b50761b-059c-4d7e-b400-8814c9ae2da0",
   "metadata": {},
   "outputs": [],
   "source": [
    "embeddings = DashScopeEmbeddings(\n",
    "   model=\"text-embedding-v1\"\n",
    ")\n",
    "\n",
    "faiss_index = FAISS.from_documents(pages, embeddings)\n",
    "\n",
    "# 保存到向量数据库中\n",
    "faiss_index.save_local('documents.faiss')"
   ]
  },
  {
   "cell_type": "markdown",
   "id": "081e173c-0a07-403a-8629-81b593e17bea",
   "metadata": {},
   "source": [
    "##### 构建召回器和语言模型"
   ]
  },
  {
   "cell_type": "code",
   "execution_count": 6,
   "id": "b515f764-de83-4a6f-a019-ea0b25b0fe3c",
   "metadata": {},
   "outputs": [],
   "source": [
    "faiss_index = FAISS.load_local('documents.faiss', embeddings, allow_dangerous_deserialization=True)\n",
    "\n",
    "retriever = faiss_index.as_retriever(search_kwargs={\"k\": 6})\n",
    "\n",
    "llm = Tongyi()"
   ]
  },
  {
   "cell_type": "markdown",
   "id": "e2c89378-d8ba-4c13-a909-505e77a85949",
   "metadata": {},
   "source": [
    "##### 构建问答模板"
   ]
  },
  {
   "cell_type": "code",
   "execution_count": 7,
   "id": "b6a39864-5762-4928-9cac-2d7b9257eb3d",
   "metadata": {},
   "outputs": [],
   "source": [
    "template = \"\"\"利用以下上下文回答最后的问题。如果不知道答案，就说不知道，不要试图编造答案。\n",
    "\n",
    "{context}\n",
    "\n",
    "Question: {question}\n",
    "\n",
    "Helpful Answer:\"\"\"\n",
    "custom_rag_prompt = PromptTemplate.from_template(template)\n",
    "\n",
    "rag_chain = (\n",
    " {\"context\": retriever, \"question\": RunnablePassthrough()}\n",
    "   | custom_rag_prompt\n",
    "   | llm\n",
    "   | StrOutputParser()\n",
    ")"
   ]
  },
  {
   "cell_type": "code",
   "execution_count": 8,
   "id": "b51586d4-8ffd-492b-8f74-4d00f5dbfcd7",
   "metadata": {},
   "outputs": [
    {
     "data": {
      "text/plain": [
       "'可以参考这篇论文：“Attention Is All You Need”，作者包括Ashish Vaswani、Noam Shazeer、Niki Parmar等人。这篇论文提出了Transformer模型，这是一种完全基于注意力机制的新网络架构，摒弃了传统的循环和卷积层。实验结果显示，这种模型在机器翻译任务上表现优越，同时训练速度更快。您可以在以下链接找到更多详细信息：\\n\\n- [cs.CL] 2 Aug 2023 (arXiv:1706.03762v7)\\n\\n该论文还详细介绍了Transformer模型的设计理念和技术细节，包括缩放点积注意力（Scaled Dot-Product Attention）和多头注意力（Multi-Head Attention）等关键组件。'"
      ]
     },
     "execution_count": 8,
     "metadata": {},
     "output_type": "execute_result"
    }
   ],
   "source": [
    "rag_chain.invoke(\"有没有关于attention的论文推荐？\")"
   ]
  },
  {
   "cell_type": "code",
   "execution_count": null,
   "id": "e1da553f-7860-4dc6-8869-459f113c4bd4",
   "metadata": {},
   "outputs": [],
   "source": []
  }
 ],
 "metadata": {
  "kernelspec": {
   "display_name": "Python 3 (ipykernel)",
   "language": "python",
   "name": "python3"
  },
  "language_info": {
   "codemirror_mode": {
    "name": "ipython",
    "version": 3
   },
   "file_extension": ".py",
   "mimetype": "text/x-python",
   "name": "python",
   "nbconvert_exporter": "python",
   "pygments_lexer": "ipython3",
   "version": "3.8.10"
  }
 },
 "nbformat": 4,
 "nbformat_minor": 5
}
