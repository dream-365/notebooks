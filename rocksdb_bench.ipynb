{
 "cells": [
  {
   "cell_type": "code",
   "execution_count": 1,
   "id": "3ed0bedb-1cc4-4ae9-87bf-2b50c1e3c057",
   "metadata": {},
   "outputs": [],
   "source": [
    "from handyhelpers import util_aliyun, util_linux\n",
    "import time\n",
    "\n",
    "# bootstrap\n",
    "bootstrap = util_aliyun.Bootstrap(\"worksapce.config.json\")\n",
    "bootstrap.run()\n",
    "\n",
    "biz_tags = [{\"Key\": \"project\", \"Value\": \"rocksdb\"}]\n",
    "aliyun_ecs_manager = util_aliyun.AliyunECSManager()"
   ]
  },
  {
   "cell_type": "code",
   "execution_count": 2,
   "id": "43b86784-7d87-4aef-bad8-695209f3669e",
   "metadata": {},
   "outputs": [],
   "source": [
    "aliyun_ecs_manager.clean(biz_tags)\n",
    "\n",
    "settings = aliyun_ecs_manager.create_default_settings()\n",
    "settings.set_biz_tags(biz_tags)\n",
    "settings.set_instance_type(\"ecs.g6.large\")\n",
    "\n",
    "vm_property = aliyun_ecs_manager.create_instance(settings)"
   ]
  },
  {
   "cell_type": "code",
   "execution_count": 4,
   "id": "7784879f-4fc2-451d-b153-f6bcbe0b5278",
   "metadata": {},
   "outputs": [
    {
     "data": {
      "text/plain": [
       "'t-sgp4ftn0h8t6j9c'"
      ]
     },
     "execution_count": 4,
     "metadata": {},
     "output_type": "execute_result"
    }
   ],
   "source": [
    "vm_property = aliyun_ecs_manager.get_instances(biz_tags)[0]\n",
    "\n",
    "cmd_content = \"\"\"\n",
    "sudo yum install -y gflags* snappy* libzstd* unzip g++\n",
    "sudo wget -O /usr/local/bin/db_bench https://deployment-kits.oss-ap-southeast-1-internal.aliyuncs.com/rocksdb/db_bench\n",
    "sudo chmod +x /usr/local/bin/db_bench\n",
    "\"\"\"\n",
    "\n",
    "aliyun_ecs_manager.execute_command(instance_id=vm_property.instance_id,\n",
    "                                  cmd_content=cmd_content, timeout=6000)"
   ]
  },
  {
   "cell_type": "code",
   "execution_count": null,
   "id": "d380da80-22ce-4a61-ad25-846fb76c6992",
   "metadata": {},
   "outputs": [],
   "source": [
    "# FIO Test\n",
    "\n",
    "vm_property = aliyun_ecs_manager.get_instances(biz_tags)[0]\n",
    "\n",
    "cmd_content = \"\"\"\n",
    "fio -numjobs=1 -iodepth=32 -direct=1 -ioengine=libaio -sync=1 \\\n",
    "-rw=randwrite  \\\n",
    "-bs=4K -size=1G \\\n",
    "-time_based -runtime=60 -name=Fio -directory=/data1 2> /dev/null\n",
    "\"\"\"\n",
    "invocation_id = aliyun_ecs_manager.execute_command(instance_id=vm_property.instance_id,\n",
    "                                  cmd_content=cmd_content, timeout=6000)"
   ]
  },
  {
   "cell_type": "code",
   "execution_count": null,
   "id": "f1dd1c4a-bfea-48cf-9db1-a8e1df215f7d",
   "metadata": {},
   "outputs": [],
   "source": [
    "print(aliyun_ecs_manager.query_invocation_result(invocation_id))"
   ]
  },
  {
   "cell_type": "code",
   "execution_count": 14,
   "id": "7955166e-a92e-4806-8bf3-73ec09abeb55",
   "metadata": {},
   "outputs": [],
   "source": [
    "# DB Bench Test\n",
    "vm_property = aliyun_ecs_manager.get_instances(biz_tags)[0]\n",
    "\n",
    "cmd_content = \"\"\"\n",
    "#!/bin/bash\n",
    "sudo mkdir /data1\n",
    "\n",
    "# 定义数据库目录，确保该目录在要测试的磁盘上\n",
    "DB_DIR=\"/data1\"\n",
    "\n",
    "QPS=2000\n",
    "DURATION=600\n",
    "NUM_THREADS=16          # 并发线程数\n",
    "\n",
    "# 定义测试参数\n",
    "NUM_KEYS=$(($QPS * $DURATION / $NUM_THREADS)) # 根据QPS、并发度和测试时长计算测试量\n",
    "VALUE_SIZE=1024         # 值大小设置为1KB\n",
    "BENCHMARKS=\"fillrandom,readrandom\" # 定义要进行的基准测试类型\n",
    "\n",
    "# 清空缓存（需要root权限），以确保测试直接对磁盘进行\n",
    "# 注意：这可能对生产系统造成影响，请谨慎操作\n",
    "sudo sh -c \"echo 3 > /proc/sys/vm/drop_caches\"\n",
    "\n",
    "# 运行db_bench测试\n",
    "db_bench \\\n",
    "    --db=$DB_DIR \\\n",
    "    --num=$NUM_KEYS \\\n",
    "    --benchmarks=$BENCHMARKS \\\n",
    "    --value_size=$VALUE_SIZE \\\n",
    "    --threads=$NUM_THREADS \\\n",
    "    --duration=$DURATION \\\n",
    "    --cache_size=0 \\\n",
    "    --cache_numshardbits=-1 \\\n",
    "    --row_cache_size=0 \\\n",
    "    --use_direct_reads \\\n",
    "    --use_direct_io_for_flush_and_compaction \\\n",
    "    --histogram=1 \\\n",
    "    --statistics=1 2> /dev/null\n",
    "\"\"\"\n",
    "invocation_id = aliyun_ecs_manager.execute_command(instance_id=vm_property.instance_id,\n",
    "                                  cmd_content=cmd_content, timeout=6000)"
   ]
  },
  {
   "cell_type": "code",
   "execution_count": 16,
   "id": "658a2a96-4dc9-4da1-81d7-40bb63a85fa5",
   "metadata": {},
   "outputs": [
    {
     "name": "stdout",
     "output_type": "stream",
     "text": [
      "mkdir: cannot create directory ‘/data1’: File exists\n",
      "\n"
     ]
    }
   ],
   "source": [
    "print(aliyun_ecs_manager.query_invocation_result(invocation_id))"
   ]
  },
  {
   "cell_type": "code",
   "execution_count": null,
   "id": "0efb57e0-9316-4c38-8356-1395c03e2ca2",
   "metadata": {},
   "outputs": [],
   "source": [
    "# aliyun_ecs_manager.clean(biz_tags)"
   ]
  }
 ],
 "metadata": {
  "kernelspec": {
   "display_name": "Python 3 (ipykernel)",
   "language": "python",
   "name": "python3"
  },
  "language_info": {
   "codemirror_mode": {
    "name": "ipython",
    "version": 3
   },
   "file_extension": ".py",
   "mimetype": "text/x-python",
   "name": "python",
   "nbconvert_exporter": "python",
   "pygments_lexer": "ipython3",
   "version": "3.10.13"
  }
 },
 "nbformat": 4,
 "nbformat_minor": 5
}
