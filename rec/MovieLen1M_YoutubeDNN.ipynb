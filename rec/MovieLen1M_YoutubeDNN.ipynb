{
 "cells": [
  {
   "cell_type": "markdown",
   "metadata": {
    "id": "rtox72csOQUN"
   },
   "source": [
    "# 资料参考\n",
    "- [Deep Neural Networks for YouTube Recommendations](https://static.googleusercontent.com/media/research.google.com/en//pubs/archive/45530.pdf)"
   ]
  },
  {
   "cell_type": "markdown",
   "metadata": {
    "id": "p9UxNHuPMuW2"
   },
   "source": [
    "# 导入需要的库"
   ]
  },
  {
   "cell_type": "code",
   "execution_count": 1,
   "metadata": {
    "id": "C_ZR6gzp1E2N"
   },
   "outputs": [],
   "source": [
    "import pandas as pd\n",
    "import numpy as np\n",
    "import random\n",
    "from tqdm import tqdm\n",
    "\n",
    "from deepctr.feature_column import SparseFeat, VarLenSparseFeat, get_feature_names\n",
    "from tensorflow.python.keras import backend as K\n",
    "from tensorflow.python.keras.models import Model\n",
    "from tensorflow.python.keras.preprocessing.sequence import pad_sequences\n",
    "\n",
    "from deepmatch.models import *\n",
    "from deepmatch.utils import sampledsoftmaxloss, NegativeSampler"
   ]
  },
  {
   "cell_type": "markdown",
   "metadata": {
    "id": "fQq6O9XAMzPF"
   },
   "source": [
    "# 读取数据"
   ]
  },
  {
   "cell_type": "code",
   "execution_count": 2,
   "metadata": {
    "colab": {
     "base_uri": "https://localhost:8080/"
    },
    "id": "lcO29zFb21Od",
    "outputId": "bfeed1ac-99f2-425f-dda6-10b83be721fe"
   },
   "outputs": [
    {
     "data": {
      "text/html": [
       "<div>\n",
       "<style scoped>\n",
       "    .dataframe tbody tr th:only-of-type {\n",
       "        vertical-align: middle;\n",
       "    }\n",
       "\n",
       "    .dataframe tbody tr th {\n",
       "        vertical-align: top;\n",
       "    }\n",
       "\n",
       "    .dataframe thead th {\n",
       "        text-align: right;\n",
       "    }\n",
       "</style>\n",
       "<table border=\"1\" class=\"dataframe\">\n",
       "  <thead>\n",
       "    <tr style=\"text-align: right;\">\n",
       "      <th></th>\n",
       "      <th>user_id</th>\n",
       "      <th>movie_id</th>\n",
       "      <th>rating</th>\n",
       "      <th>timestamp</th>\n",
       "      <th>title</th>\n",
       "      <th>genres</th>\n",
       "      <th>gender</th>\n",
       "      <th>age</th>\n",
       "      <th>occupation</th>\n",
       "      <th>zip</th>\n",
       "      <th>watch_movie_seq</th>\n",
       "      <th>watch_genre_seq</th>\n",
       "      <th>seq_len</th>\n",
       "      <th>label</th>\n",
       "    </tr>\n",
       "  </thead>\n",
       "  <tbody>\n",
       "    <tr>\n",
       "      <th>0</th>\n",
       "      <td>5505</td>\n",
       "      <td>355</td>\n",
       "      <td>4</td>\n",
       "      <td>959732229</td>\n",
       "      <td>Lion King, The (1994)</td>\n",
       "      <td>3</td>\n",
       "      <td>1</td>\n",
       "      <td>3</td>\n",
       "      <td>5</td>\n",
       "      <td>107</td>\n",
       "      <td>[581, 741, 958, 1916, 1839, 968, 1, 2899, 2484...</td>\n",
       "      <td>[3, 3, 3, 3, 3, 3, 3, 3, 3, 3, 1, 3, 6, 6, 10,...</td>\n",
       "      <td>33</td>\n",
       "      <td>1</td>\n",
       "    </tr>\n",
       "    <tr>\n",
       "      <th>1</th>\n",
       "      <td>4446</td>\n",
       "      <td>1125</td>\n",
       "      <td>2</td>\n",
       "      <td>965089335</td>\n",
       "      <td>Alien (1979)</td>\n",
       "      <td>1</td>\n",
       "      <td>2</td>\n",
       "      <td>2</td>\n",
       "      <td>19</td>\n",
       "      <td>2047</td>\n",
       "      <td>[2064, 3208, 633, 1963, 3257, 2, 309, 59, 1788...</td>\n",
       "      <td>[1, 1, 1, 2, 2, 2, 4, 2, 2, 1, 2, 2, 5, 3, 2, ...</td>\n",
       "      <td>50</td>\n",
       "      <td>1</td>\n",
       "    </tr>\n",
       "    <tr>\n",
       "      <th>2</th>\n",
       "      <td>2231</td>\n",
       "      <td>673</td>\n",
       "      <td>5</td>\n",
       "      <td>974602217</td>\n",
       "      <td>Faces (1968)</td>\n",
       "      <td>8</td>\n",
       "      <td>2</td>\n",
       "      <td>6</td>\n",
       "      <td>12</td>\n",
       "      <td>2680</td>\n",
       "      <td>[3427, 2953, 3546, 2799, 3185, 3229, 149, 3237...</td>\n",
       "      <td>[8, 2, 8, 8, 8, 2, 8, 8, 8, 8, 6, 8, 8, 8, 8, ...</td>\n",
       "      <td>50</td>\n",
       "      <td>1</td>\n",
       "    </tr>\n",
       "    <tr>\n",
       "      <th>3</th>\n",
       "      <td>4942</td>\n",
       "      <td>2439</td>\n",
       "      <td>4</td>\n",
       "      <td>962642043</td>\n",
       "      <td>Superman (1978)</td>\n",
       "      <td>1</td>\n",
       "      <td>2</td>\n",
       "      <td>5</td>\n",
       "      <td>13</td>\n",
       "      <td>1356</td>\n",
       "      <td>[1730, 2427, 2262, 2461, 2215, 3459, 2335, 151...</td>\n",
       "      <td>[13, 1, 11, 1, 5, 8, 1, 8, 1, 1, 1, 2, 5, 1, 1...</td>\n",
       "      <td>44</td>\n",
       "      <td>1</td>\n",
       "    </tr>\n",
       "    <tr>\n",
       "      <th>4</th>\n",
       "      <td>1067</td>\n",
       "      <td>1766</td>\n",
       "      <td>4</td>\n",
       "      <td>974952597</td>\n",
       "      <td>On the Waterfront (1954)</td>\n",
       "      <td>6</td>\n",
       "      <td>2</td>\n",
       "      <td>4</td>\n",
       "      <td>13</td>\n",
       "      <td>3082</td>\n",
       "      <td>[2480, 1140, 241, 2786, 3271, 864, 1130, 2899,...</td>\n",
       "      <td>[8, 5, 8, 5, 8, 8, 11, 3, 15, 15, 10, 8, 5, 3,...</td>\n",
       "      <td>50</td>\n",
       "      <td>1</td>\n",
       "    </tr>\n",
       "  </tbody>\n",
       "</table>\n",
       "</div>"
      ],
      "text/plain": [
       "   user_id  movie_id  rating  timestamp                     title  genres  \\\n",
       "0     5505       355       4  959732229     Lion King, The (1994)       3   \n",
       "1     4446      1125       2  965089335              Alien (1979)       1   \n",
       "2     2231       673       5  974602217              Faces (1968)       8   \n",
       "3     4942      2439       4  962642043           Superman (1978)       1   \n",
       "4     1067      1766       4  974952597  On the Waterfront (1954)       6   \n",
       "\n",
       "   gender  age  occupation   zip  \\\n",
       "0       1    3           5   107   \n",
       "1       2    2          19  2047   \n",
       "2       2    6          12  2680   \n",
       "3       2    5          13  1356   \n",
       "4       2    4          13  3082   \n",
       "\n",
       "                                     watch_movie_seq  \\\n",
       "0  [581, 741, 958, 1916, 1839, 968, 1, 2899, 2484...   \n",
       "1  [2064, 3208, 633, 1963, 3257, 2, 309, 59, 1788...   \n",
       "2  [3427, 2953, 3546, 2799, 3185, 3229, 149, 3237...   \n",
       "3  [1730, 2427, 2262, 2461, 2215, 3459, 2335, 151...   \n",
       "4  [2480, 1140, 241, 2786, 3271, 864, 1130, 2899,...   \n",
       "\n",
       "                                     watch_genre_seq  seq_len  label  \n",
       "0  [3, 3, 3, 3, 3, 3, 3, 3, 3, 3, 1, 3, 6, 6, 10,...       33      1  \n",
       "1  [1, 1, 1, 2, 2, 2, 4, 2, 2, 1, 2, 2, 5, 3, 2, ...       50      1  \n",
       "2  [8, 2, 8, 8, 8, 2, 8, 8, 8, 8, 6, 8, 8, 8, 8, ...       50      1  \n",
       "3  [13, 1, 11, 1, 5, 8, 1, 8, 1, 1, 1, 2, 5, 1, 1...       44      1  \n",
       "4  [8, 5, 8, 5, 8, 8, 11, 3, 15, 15, 10, 8, 5, 3,...       50      1  "
      ]
     },
     "execution_count": 2,
     "metadata": {},
     "output_type": "execute_result"
    }
   ],
   "source": [
    "import json\n",
    "\n",
    "train_df = pd.read_parquet('ml1M-train.parquet', engine='pyarrow')\n",
    "test_df = pd.read_parquet('ml1M-test.parquet', engine='pyarrow')\n",
    "\n",
    "train_df['label'] = 1\n",
    "test_df['label'] = 1\n",
    "\n",
    "with open('ml1M_feature_max_idx.json', 'r') as json_file:\n",
    "    feature_max_idx = json.load(json_file)\n",
    "    \n",
    "train_df.head()"
   ]
  },
  {
   "cell_type": "code",
   "execution_count": 3,
   "metadata": {},
   "outputs": [],
   "source": [
    "def get_model_input(data, seq_max_len = 50):\n",
    "    fixlen_feature_columns = ['user_id', 'movie_id', 'genres', \n",
    "                               'rating','gender', 'age', \n",
    "                              'occupation', 'zip', \"seq_len\"]\n",
    "\n",
    "    varlen_feature_columns = ['watch_movie_seq', 'watch_genre_seq']\n",
    "\n",
    "    _dict = data[fixlen_feature_columns].to_dict(orient='list')\n",
    "\n",
    "    for feature in fixlen_feature_columns:\n",
    "        _dict[feature] = np.array(_dict[feature])\n",
    "\n",
    "    for feature in varlen_feature_columns:\n",
    "        _dict[feature] = \\\n",
    "            pad_sequences(data[feature].values, maxlen=seq_max_len, padding='post', truncating='post', value=0)\n",
    "        \n",
    "    return _dict"
   ]
  },
  {
   "cell_type": "code",
   "execution_count": 4,
   "metadata": {},
   "outputs": [],
   "source": [
    "# 构建训练数据的输入\n",
    "train_model_input = get_model_input(train_df)\n",
    "train_label = np.array(train_df[\"label\"].values)"
   ]
  },
  {
   "cell_type": "markdown",
   "metadata": {
    "id": "L0yCWxQxM3se"
   },
   "source": [
    "# 构建特征列，训练模型，导出embedding"
   ]
  },
  {
   "cell_type": "code",
   "execution_count": 30,
   "metadata": {
    "colab": {
     "base_uri": "https://localhost:8080/"
    },
    "id": "BMOvk_de2ML3",
    "outputId": "962afe1c-d387-4345-861f-e9b974a0b495"
   },
   "outputs": [],
   "source": [
    "BATCH_SIZE = 1024\n",
    "N_EPOCHS = 20\n",
    "SEQ_LEN = 50\n",
    "embedding_dim = 32"
   ]
  },
  {
   "cell_type": "code",
   "execution_count": 31,
   "metadata": {},
   "outputs": [],
   "source": [
    "# 2.count #unique features for each sparse field and generate feature config for sequence feature\n",
    "\n",
    "from collections import Counter\n",
    "\n",
    "class FeatureConfig:\n",
    "    def __init__(self, feature_max_idx, embedding_dim=32, seq_len=50):\n",
    "        self.feature_max_idx = feature_max_idx\n",
    "        self.embedding_dim = embedding_dim\n",
    "        self.seq_len = seq_len\n",
    "        \n",
    "    def get_user_feature_columns(self):\n",
    "        \"\"\"生成用户特征列配置\"\"\"\n",
    "        return [\n",
    "            SparseFeat('user_id', self.feature_max_idx['user_id'], 16),\n",
    "            SparseFeat(\"gender\", self.feature_max_idx['gender'], 16),\n",
    "            SparseFeat(\"age\", self.feature_max_idx['age'], 16),\n",
    "            SparseFeat(\"occupation\", self.feature_max_idx['occupation'], 16),\n",
    "            SparseFeat(\"zip\", self.feature_max_idx['zip'], 16),\n",
    "            SparseFeat(\"seq_len\", SEQ_LEN + 1, 16),\n",
    "            VarLenSparseFeat(SparseFeat('watch_movie_seq', self.feature_max_idx['movie_id'], self.embedding_dim,\n",
    "                                        embedding_name=\"movie_ebm\"), self.seq_len, 'mean'),\n",
    "            VarLenSparseFeat(SparseFeat('watch_genre_seq', self.feature_max_idx['genres'], self.embedding_dim,\n",
    "                                        embedding_name=\"genre_ebm\"), self.seq_len, 'mean'),\n",
    "        ]\n",
    "\n",
    "    def get_item_feature_columns(self):\n",
    "        \"\"\"生成物品特征列配置\"\"\"\n",
    "        return [SparseFeat('movie_id', self.feature_max_idx['movie_id'], self.embedding_dim)]\n",
    "\n",
    "class NegativeSamplerConfig:\n",
    "    def __init__(self, train_model_input, item_feature_columns):\n",
    "        self.train_counter = Counter(train_model_input['movie_id'])\n",
    "        self.item_count = [self.train_counter.get(i, 0) for i in range(item_feature_columns[0].vocabulary_size)]\n",
    "\n",
    "    def get_sampler_config(self, num_sampled=255):\n",
    "        \"\"\"生成负采样器配置\"\"\"\n",
    "        return NegativeSampler('frequency', num_sampled=num_sampled, item_name=\"movie_id\", item_count=self.item_count)\n",
    "    \n",
    "# 创建 FeatureConfig 实例\n",
    "feature_config = FeatureConfig(feature_max_idx, embedding_dim, SEQ_LEN)\n",
    "user_feature_columns = feature_config.get_user_feature_columns()\n",
    "item_feature_columns = feature_config.get_item_feature_columns()\n",
    "\n",
    "# 创建 NegativeSamplerConfig 实例\n",
    "negative_sampler_config = NegativeSamplerConfig(train_model_input, item_feature_columns)\n",
    "sampler_config = negative_sampler_config.get_sampler_config(num_sampled=255)"
   ]
  },
  {
   "cell_type": "code",
   "execution_count": 32,
   "metadata": {},
   "outputs": [
    {
     "name": "stdout",
     "output_type": "stream",
     "text": [
      "Train on 900189 samples\n",
      "Epoch 1/20\n",
      "900189/900189 [==============================] - 14s 16us/sample - loss: 6.2001\n",
      "Epoch 2/20\n",
      "900189/900189 [==============================] - 14s 15us/sample - loss: 4.6946\n",
      "Epoch 3/20\n",
      "900189/900189 [==============================] - 14s 15us/sample - loss: 4.3042\n",
      "Epoch 4/20\n",
      "900189/900189 [==============================] - 14s 16us/sample - loss: 4.0959\n",
      "Epoch 5/20\n",
      "900189/900189 [==============================] - 14s 15us/sample - loss: 3.9479\n",
      "Epoch 6/20\n",
      "900189/900189 [==============================] - 14s 15us/sample - loss: 3.8376\n",
      "Epoch 7/20\n",
      "900189/900189 [==============================] - 14s 15us/sample - loss: 3.7509\n",
      "Epoch 8/20\n",
      "900189/900189 [==============================] - 14s 15us/sample - loss: 3.6824\n",
      "Epoch 9/20\n",
      "900189/900189 [==============================] - 14s 15us/sample - loss: 3.6224\n",
      "Epoch 10/20\n",
      "900189/900189 [==============================] - 14s 15us/sample - loss: 3.5760\n",
      "Epoch 11/20\n",
      "900189/900189 [==============================] - 14s 15us/sample - loss: 3.5340\n",
      "Epoch 12/20\n",
      "900189/900189 [==============================] - 14s 15us/sample - loss: 3.4960\n",
      "Epoch 13/20\n",
      "900189/900189 [==============================] - 14s 15us/sample - loss: 3.4604\n",
      "Epoch 14/20\n",
      "900189/900189 [==============================] - 14s 15us/sample - loss: 3.4296\n",
      "Epoch 15/20\n",
      "900189/900189 [==============================] - 14s 16us/sample - loss: 3.4041\n",
      "Epoch 16/20\n",
      "900189/900189 [==============================] - 14s 15us/sample - loss: 3.3746\n",
      "Epoch 17/20\n",
      "900189/900189 [==============================] - 14s 15us/sample - loss: 3.3537\n",
      "Epoch 18/20\n",
      "900189/900189 [==============================] - 14s 15us/sample - loss: 3.3353\n",
      "Epoch 19/20\n",
      "900189/900189 [==============================] - 14s 15us/sample - loss: 3.3121\n",
      "Epoch 20/20\n",
      "900189/900189 [==============================] - 14s 15us/sample - loss: 3.2940\n"
     ]
    }
   ],
   "source": [
    "# 3.Define Model and train\n",
    "\n",
    "import tensorflow as tf\n",
    "if tf.__version__ >= '2.0.0':\n",
    "    tf.compat.v1.disable_eager_execution()\n",
    "else:\n",
    "    K.set_learning_phase(True)\n",
    "\n",
    "model = YoutubeDNN(user_feature_columns, item_feature_columns, user_dnn_hidden_units=(512, 256, embedding_dim), sampler_config=sampler_config)\n",
    "\n",
    "model.compile(optimizer=\"adam\", loss=sampledsoftmaxloss)\n",
    "\n",
    "history = model.fit(train_model_input, train_label,  # train_label,\n",
    "                    batch_size=BATCH_SIZE, epochs=N_EPOCHS, verbose=1, validation_split=0.0, )"
   ]
  },
  {
   "cell_type": "code",
   "execution_count": 33,
   "metadata": {},
   "outputs": [],
   "source": [
    "# 构建训练数据\n",
    "test_model_input = get_model_input(test_df)"
   ]
  },
  {
   "cell_type": "code",
   "execution_count": 34,
   "metadata": {},
   "outputs": [],
   "source": [
    "# 合并训练集和测试集，取movie_id的唯一值\n",
    "all_data = pd.concat([train_df, test_df], ignore_index=True)\n",
    "movide_id_list = all_data['movie_id'].unique()"
   ]
  },
  {
   "cell_type": "code",
   "execution_count": 46,
   "metadata": {},
   "outputs": [
    {
     "name": "stderr",
     "output_type": "stream",
     "text": [
      "/usr/local/lib/python3.6/dist-packages/tensorflow/python/keras/engine/training.py:2424: UserWarning: `Model.state_updates` will be removed in a future version. This property should not be used in TensorFlow 2.0, as `updates` are applied automatically.\n",
      "  warnings.warn('`Model.state_updates` will be removed in a future version. '\n"
     ]
    },
    {
     "name": "stdout",
     "output_type": "stream",
     "text": [
      "(100020, 32)\n",
      "(3706, 32)\n"
     ]
    }
   ],
   "source": [
    "# 4. Generate user features for testing and full item features for retrieval\n",
    "test_user_model_input = test_model_input\n",
    "all_item_model_input = {\"movie_id\": movide_id_list,}\n",
    "\n",
    "user_embedding_model = Model(inputs=model.user_input, outputs=model.user_embedding)\n",
    "item_embedding_model = Model(inputs=model.item_input, outputs=model.item_embedding)\n",
    "\n",
    "user_embs = user_embedding_model.predict(test_user_model_input, batch_size=2 ** 12)\n",
    "item_embs = item_embedding_model.predict(all_item_model_input, batch_size=2 ** 12)\n",
    "\n",
    "print(user_embs.shape)\n",
    "print(item_embs.shape)"
   ]
  },
  {
   "cell_type": "code",
   "execution_count": 36,
   "metadata": {},
   "outputs": [
    {
     "name": "stdout",
     "output_type": "stream",
     "text": [
      "(6040, 32)\n"
     ]
    }
   ],
   "source": [
    "# 最新的用户行为产生的user embedding\n",
    "all_data.sort_values(by='timestamp', ascending=False, inplace=True)\n",
    "all_users_latest = all_data.drop_duplicates(subset=[\"user_id\"], keep='first', inplace=False, ignore_index=False)\n",
    "all_user_model_input = get_model_input(all_users_latest)\n",
    "all_user_embs = user_embedding_model.predict(all_user_model_input, batch_size=2 ** 12)\n",
    "print(all_user_embs.shape)"
   ]
  },
  {
   "cell_type": "code",
   "execution_count": 37,
   "metadata": {},
   "outputs": [],
   "source": [
    "user_id_idx = np.array(all_users_latest[\"user_id\"].values)\n",
    "movie_id_idx = np.array(movide_id_list)"
   ]
  },
  {
   "cell_type": "code",
   "execution_count": 14,
   "metadata": {},
   "outputs": [],
   "source": [
    "! mkdir model"
   ]
  },
  {
   "cell_type": "code",
   "execution_count": 38,
   "metadata": {},
   "outputs": [],
   "source": [
    "# 保存所有的embedding\n",
    "np.save('model/item_embs.npy', item_embs)\n",
    "np.save('model/user_embs.npy', all_user_embs)\n",
    "np.save('model/user_id_idx.npy', user_id_idx)\n",
    "np.save('model/movie_id_idx.npy', movie_id_idx)"
   ]
  },
  {
   "cell_type": "markdown",
   "metadata": {
    "id": "w_G3KWslKmJo"
   },
   "source": [
    "# 使用faiss进行ANN查找并评估结果"
   ]
  },
  {
   "cell_type": "code",
   "execution_count": 47,
   "metadata": {
    "colab": {
     "base_uri": "https://localhost:8080/"
    },
    "id": "6TY1l27iJU8U",
    "outputId": "5a8ccdd3-af70-4c48-b859-84c4befddfdd"
   },
   "outputs": [
    {
     "name": "stderr",
     "output_type": "stream",
     "text": [
      "100020it [00:17, 5751.60it/s]"
     ]
    },
    {
     "name": "stdout",
     "output_type": "stream",
     "text": [
      "\n",
      "recall 0.15369926014797042\n",
      "hit rate 0.15369926014797042\n"
     ]
    },
    {
     "name": "stderr",
     "output_type": "stream",
     "text": [
      "\n"
     ]
    }
   ],
   "source": [
    "test_true_label = {row.user_id:[row.movie_id] for row in test_df.itertuples(index=False)}\n",
    "\n",
    "import numpy as np\n",
    "import faiss\n",
    "from tqdm import tqdm\n",
    "from deepmatch.utils import recall_N\n",
    "\n",
    "TOP_N = 100\n",
    "\n",
    "index = faiss.IndexFlatIP(embedding_dim)\n",
    "# faiss.normalize_L2(item_embs)\n",
    "index.add(item_embs)\n",
    "# faiss.normalize_L2(user_embs)\n",
    "D, I = index.search(np.ascontiguousarray(user_embs), TOP_N)\n",
    "s = []\n",
    "hit = 0\n",
    "for i, uid in tqdm(enumerate(test_user_model_input['user_id'])):\n",
    "    try:\n",
    "        pred_movie_ids = [movide_id_list[x] for x in I[i]]\n",
    "        recall_score = recall_N(test_true_label[uid], pred_movie_ids, N=TOP_N)\n",
    "        s.append(recall_score)\n",
    "        if test_true_label[uid] in pred_movie_ids:\n",
    "            hit += 1\n",
    "    except Exception as e:\n",
    "        print(e)\n",
    "        raise e\n",
    "print(\"\")\n",
    "print(\"recall\", np.mean(s))\n",
    "print(\"hit rate\", hit / len(test_user_model_input['user_id']))"
   ]
  },
  {
   "cell_type": "code",
   "execution_count": 43,
   "metadata": {
    "scrolled": true
   },
   "outputs": [
    {
     "name": "stdout",
     "output_type": "stream",
     "text": [
      "63\n",
      "20\n"
     ]
    }
   ],
   "source": [
    "# 单个用户情况查看\n",
    "\n",
    "user_id = 1998\n",
    "\n",
    "user_model_input = get_model_input(test_df[test_df[\"user_id\"] == user_id].head(n=1))\n",
    "\n",
    "user_embs = user_embedding_model.predict(user_model_input)\n",
    "\n",
    "D, I = index.search(np.ascontiguousarray(user_embs), TOP_N)\n",
    "\n",
    "retrival_movie_index = I[0]\n",
    "retrival_movie_ids = [movide_id_list[x] for x in retrival_movie_index]\n",
    "\n",
    "watch_movie_ids = train_df[train_df[\"user_id\"] == user_id][\"movie_id\"].values\n",
    "furture_movie_ids = test_df[test_df[\"user_id\"] == user_id][\"movie_id\"].values\n",
    "\n",
    "same_ids_in_history = set(watch_movie_ids) & set(retrival_movie_ids)\n",
    "same_ids_in_future = set(furture_movie_ids) & set(retrival_movie_ids)\n",
    "\n",
    "print(len(same_ids_in_history))\n",
    "print(len(same_ids_in_future))"
   ]
  },
  {
   "cell_type": "code",
   "execution_count": 48,
   "metadata": {},
   "outputs": [
    {
     "name": "stdout",
     "output_type": "stream",
     "text": [
      "Model: \"model_6\"\n",
      "__________________________________________________________________________________________________\n",
      "Layer (type)                    Output Shape         Param #     Connected to                     \n",
      "==================================================================================================\n",
      "watch_movie_seq (InputLayer)    [(None, 50)]         0                                            \n",
      "__________________________________________________________________________________________________\n",
      "watch_genre_seq (InputLayer)    [(None, 50)]         0                                            \n",
      "__________________________________________________________________________________________________\n",
      "movie_id (InputLayer)           [(None, 1)]          0                                            \n",
      "__________________________________________________________________________________________________\n",
      "user_id (InputLayer)            [(None, 1)]          0                                            \n",
      "__________________________________________________________________________________________________\n",
      "gender (InputLayer)             [(None, 1)]          0                                            \n",
      "__________________________________________________________________________________________________\n",
      "age (InputLayer)                [(None, 1)]          0                                            \n",
      "__________________________________________________________________________________________________\n",
      "occupation (InputLayer)         [(None, 1)]          0                                            \n",
      "__________________________________________________________________________________________________\n",
      "zip (InputLayer)                [(None, 1)]          0                                            \n",
      "__________________________________________________________________________________________________\n",
      "seq_len (InputLayer)            [(None, 1)]          0                                            \n",
      "__________________________________________________________________________________________________\n",
      "sparse_seq_emb_watch_movie_seq  (None, 50, 32)       118624      watch_movie_seq[0][0]            \n",
      "__________________________________________________________________________________________________\n",
      "sparse_seq_emb_watch_genre_seq  (None, 50, 32)       608         watch_genre_seq[0][0]            \n",
      "__________________________________________________________________________________________________\n",
      "embedding_index_2 (EmbeddingInd (3707,)              0           movie_id[0][0]                   \n",
      "__________________________________________________________________________________________________\n",
      "sparse_emb_user_id (Embedding)  (None, 1, 16)        96656       user_id[0][0]                    \n",
      "__________________________________________________________________________________________________\n",
      "sparse_emb_gender (Embedding)   (None, 1, 16)        48          gender[0][0]                     \n",
      "__________________________________________________________________________________________________\n",
      "sparse_emb_age (Embedding)      (None, 1, 16)        128         age[0][0]                        \n",
      "__________________________________________________________________________________________________\n",
      "sparse_emb_occupation (Embeddin (None, 1, 16)        352         occupation[0][0]                 \n",
      "__________________________________________________________________________________________________\n",
      "sparse_emb_zip (Embedding)      (None, 1, 16)        55040       zip[0][0]                        \n",
      "__________________________________________________________________________________________________\n",
      "sparse_emb_seq_len (Embedding)  (None, 1, 16)        816         seq_len[0][0]                    \n",
      "__________________________________________________________________________________________________\n",
      "sequence_pooling_layer_4 (Seque (None, 1, 32)        0           sparse_seq_emb_watch_movie_seq[0]\n",
      "__________________________________________________________________________________________________\n",
      "sequence_pooling_layer_5 (Seque (None, 1, 32)        0           sparse_seq_emb_watch_genre_seq[0]\n",
      "__________________________________________________________________________________________________\n",
      "sparse_emb_movie_id (Embedding) (3707, 32)           118624      embedding_index_2[0][0]          \n",
      "__________________________________________________________________________________________________\n",
      "concat_2 (Concat)               (None, 1, 160)       0           sparse_emb_user_id[0][0]         \n",
      "                                                                 sparse_emb_gender[0][0]          \n",
      "                                                                 sparse_emb_age[0][0]             \n",
      "                                                                 sparse_emb_occupation[0][0]      \n",
      "                                                                 sparse_emb_zip[0][0]             \n",
      "                                                                 sparse_emb_seq_len[0][0]         \n",
      "                                                                 sequence_pooling_layer_4[0][0]   \n",
      "                                                                 sequence_pooling_layer_5[0][0]   \n",
      "__________________________________________________________________________________________________\n",
      "no_mask_2 (NoMask)              (3707, 32)           0           sparse_emb_movie_id[0][0]        \n",
      "__________________________________________________________________________________________________\n",
      "flatten_2 (Flatten)             (None, 160)          0           concat_2[0][0]                   \n",
      "__________________________________________________________________________________________________\n",
      "pooling_layer_2 (PoolingLayer)  (3707, 32)           0           no_mask_2[0][0]                  \n",
      "__________________________________________________________________________________________________\n",
      "dnn_2 (DNN)                     (None, 32)           221984      flatten_2[0][0]                  \n",
      "__________________________________________________________________________________________________\n",
      "lambda_7 (Lambda)               (3707, 32)           0           pooling_layer_2[0][0]            \n",
      "__________________________________________________________________________________________________\n",
      "lambda_6 (Lambda)               (None, 32)           0           dnn_2[0][0]                      \n",
      "__________________________________________________________________________________________________\n",
      "sampled_softmax_layer_2 (Sample (None, 1)            3707        lambda_7[0][0]                   \n",
      "                                                                 lambda_6[0][0]                   \n",
      "                                                                 movie_id[0][0]                   \n",
      "==================================================================================================\n",
      "Total params: 616,587\n",
      "Trainable params: 612,880\n",
      "Non-trainable params: 3,707\n",
      "__________________________________________________________________________________________________\n"
     ]
    }
   ],
   "source": [
    "model.summary()"
   ]
  },
  {
   "cell_type": "code",
   "execution_count": null,
   "metadata": {},
   "outputs": [],
   "source": []
  }
 ],
 "metadata": {
  "accelerator": "GPU",
  "colab": {
   "name": "colab_MovieLen1M_YoutubeDNN.ipynb",
   "provenance": []
  },
  "gpuClass": "standard",
  "kernelspec": {
   "display_name": "Python 3",
   "language": "python",
   "name": "python3"
  },
  "language_info": {
   "codemirror_mode": {
    "name": "ipython",
    "version": 3
   },
   "file_extension": ".py",
   "mimetype": "text/x-python",
   "name": "python",
   "nbconvert_exporter": "python",
   "pygments_lexer": "ipython3",
   "version": "3.6.9"
  }
 },
 "nbformat": 4,
 "nbformat_minor": 1
}
