{
 "cells": [
  {
   "cell_type": "code",
   "execution_count": 4,
   "id": "2865346b-be20-4c2c-bbd3-3d83870d39b1",
   "metadata": {},
   "outputs": [],
   "source": [
    "# 1. 环境配置\n",
    "from getpass import getpass\n",
    "import os\n",
    "\n",
    "# 如果没配置api key，获取api key\n",
    "if os.getenv(\"DASHSCOPE_API_KEY\") is None:\n",
    "    os.environ[\"DASHSCOPE_API_KEY\"] = getpass()"
   ]
  },
  {
   "cell_type": "code",
   "execution_count": 5,
   "id": "b1bd12d0-1fa6-40a3-9c03-3d0e15cd8622",
   "metadata": {},
   "outputs": [],
   "source": [
    "# 2. 导入依赖库\n",
    "from langchain_community.llms import Tongyi"
   ]
  },
  {
   "cell_type": "code",
   "execution_count": 7,
   "id": "72b58d3b-725b-4e5d-ac19-55500d2a97c9",
   "metadata": {},
   "outputs": [
    {
     "name": "stdout",
     "output_type": "stream",
     "text": [
      "杭州，浙江省省会，历史悠久，人文荟萃。以西湖为中心，自然景观与古迹众多。享有“人间天堂”美誉。还有灵隐寺、宋城等景点，是中国著名的旅游城市之一。美食丰富，龙井虾仁、东坡肉等地道菜品不可错过。\n"
     ]
    }
   ],
   "source": [
    "# 3. 对话模式\n",
    "\n",
    "llm = Tongyi(\n",
    "    model=\"qwen-turbo\"\n",
    ")\n",
    "\n",
    "messages = [\n",
    "    (\"system\", \"你是一个旅行助理，为用户规划旅游的行程\"),\n",
    "    (\"human\", \"请介绍下杭州，控制在100字以内\"),\n",
    "]\n",
    "\n",
    "response = llm.invoke(messages)\n",
    "\n",
    "print(response)"
   ]
  },
  {
   "cell_type": "code",
   "execution_count": 8,
   "id": "22ee4033-cab9-44b5-b975-872d1ee3d126",
   "metadata": {},
   "outputs": [
    {
     "name": "stdout",
     "output_type": "stream",
     "text": [
      "16074\n"
     ]
    }
   ],
   "source": [
    "# 3. 文章摘要\n",
    "file_path = \"../zh_cn.txt\"\n",
    "\n",
    "with open(file_path, 'r', encoding='utf-8') as file:\n",
    "    # 使用 read() 方法读取文件的全部内容\n",
    "    content = file.read()\n",
    "\n",
    "print(len(content))"
   ]
  },
  {
   "cell_type": "code",
   "execution_count": 9,
   "id": "9a9f6f88-a861-4ae2-9c52-872e2d32d126",
   "metadata": {},
   "outputs": [
    {
     "name": "stdout",
     "output_type": "stream",
     "text": [
      "采访总结：\n",
      "\n",
      "本次采访中，华为创始人任正非与《南华早报》总编辑谭卫儿及商业财经新闻主编郑尚任就多个话题展开了深入交流。以下为采访要点总结：\n",
      "\n",
      "1. **疫情对华为的影响**：\n",
      "   - 疫情确实对华为造成了一定的影响，但整体可控。春节期间约2万名员工加班以应对潜在的制裁风险。\n",
      "   - 华为采取了一系列措施保障供应链稳定，包括协助供应商解决防疫问题、激励物流人员以及承担高昂的国际空运成本。\n",
      "   - 公司产能逐步恢复至90%以上，尽管存在挑战，但仍能保障供应。\n",
      "\n",
      "2. **华为的应对策略**：\n",
      "   - 华为正在努力降低美国制裁的影响，同时加速技术研发，以应对未来的不确定性。\n",
      "   - 公司重视研发，投入大量资源确保技术领先地位，特别是在5G和其他关键领域。\n",
      "\n",
      "3. **华为的管理与文化**：\n",
      "   - 华为实行轮值董事长制度，旨在保持组织的新鲜感、干部的稳定性和管理团队的一致性。\n",
      "   - 公司强调“狼文化”的三个核心特征：敏锐的市场洞察力、团队合作精神以及坚持不懈的努力。\n",
      "   - 华为注重员工福利，即便在困难市场条件下也致力于提供高质量的工作和生活环境。\n",
      "\n",
      "4. **国际环境与挑战**：\n",
      "   - 华为认为中美之间的摩擦不应影响企业间的合作，公司将继续向美国及其他国家的学习和技术合作。\n",
      "   - 对于美国的制裁，任正非表示华为将通过自身的努力来克服困难，同时保持开放态度寻求国际合作。\n",
      "\n",
      "5. **个人经历与展望**：\n",
      "   - 任正非分享了他的个人经历以及华为的成长历程，强调了持续学习和适应变化的重要性。\n",
      "   - 关于未来，他认为华为面临的最大挑战是如何保持创新和技术领先地位，以及如何应对全球化的复杂环境。\n",
      "\n",
      "6. **社会责任与价值观**：\n",
      "   - 华为积极参与社会公益活动，如在疫情期间迅速响应并支援前线，体现了公司的社会责任感。\n",
      "   - 任正非强调了教育的重要性，认为强大的基础教育体系是科技创新和可持续发展的基石。\n",
      "\n",
      "本次采访全面展现了华为在面对挑战时的应对策略、公司文化和未来发展愿景，以及任正非个人的价值观和社会责任感。\n"
     ]
    }
   ],
   "source": [
    "messages = [\n",
    "    (\"system\", \"你是一个报社编辑，负责总结采访概要\"),\n",
    "    (\"user\", f\"请总结下这篇采访：${content}\"),\n",
    "]\n",
    "\n",
    "response = llm.invoke(messages)\n",
    "\n",
    "print(response)"
   ]
  },
  {
   "cell_type": "code",
   "execution_count": null,
   "id": "13781ae0-d00b-478c-a2bd-d0fd75b0ee7c",
   "metadata": {},
   "outputs": [],
   "source": []
  }
 ],
 "metadata": {
  "kernelspec": {
   "display_name": "Python 3 (ipykernel)",
   "language": "python",
   "name": "python3"
  },
  "language_info": {
   "codemirror_mode": {
    "name": "ipython",
    "version": 3
   },
   "file_extension": ".py",
   "mimetype": "text/x-python",
   "name": "python",
   "nbconvert_exporter": "python",
   "pygments_lexer": "ipython3",
   "version": "3.8.10"
  }
 },
 "nbformat": 4,
 "nbformat_minor": 5
}
