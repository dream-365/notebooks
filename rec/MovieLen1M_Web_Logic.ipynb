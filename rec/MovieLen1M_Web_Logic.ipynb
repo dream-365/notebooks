{
 "cells": [
  {
   "cell_type": "code",
   "execution_count": 36,
   "metadata": {},
   "outputs": [],
   "source": [
    "import pandas as pd\n",
    "import numpy as np\n",
    "import faiss"
   ]
  },
  {
   "cell_type": "code",
   "execution_count": 9,
   "metadata": {},
   "outputs": [],
   "source": [
    "# 模拟数据库\n",
    "\n",
    "class MemDatabase:\n",
    "    def __init__(self, data_path=\"./\"):\n",
    "        self.data_path = data_path\n",
    "        self.user_cols = ['user_id', 'gender', 'age', 'occupation', 'zip']\n",
    "        self.rating_cols = ['user_id', 'movie_id', 'rating', 'timestamp']\n",
    "        self.movie_cols = ['movie_id', 'title', 'genres']\n",
    "\n",
    "    def load_users(self):\n",
    "        \"\"\"加载用户数据\"\"\"\n",
    "        user_file = f\"{self.data_path}ml-1m/users.dat\"\n",
    "        return pd.read_csv(user_file, sep='::', header=None, names=self.user_cols, engine='python')\n",
    "\n",
    "    def load_ratings(self):\n",
    "        \"\"\"加载评分数据\"\"\"\n",
    "        ratings_file = f\"{self.data_path}ml-1m/ratings.dat\"\n",
    "        return pd.read_csv(ratings_file, sep='::', header=None, names=self.rating_cols, engine='python')\n",
    "\n",
    "    def load_movies(self):\n",
    "        \"\"\"加载电影数据，并处理电影类型\"\"\"\n",
    "        movies_file = f\"{self.data_path}ml-1m/movies.dat\"\n",
    "        movies = pd.read_csv(movies_file, sep='::', header=None, names=self.movie_cols, encoding=\"unicode_escape\", engine='python')\n",
    "        movies['genres'] = movies['genres'].map(lambda x: x.split('|')[0])\n",
    "        return movies\n",
    "\n",
    "    def load_data(self):\n",
    "        \"\"\"加载并合并所有数据\"\"\"\n",
    "        self.users = self.load_users()\n",
    "        self.ratings = self.load_ratings()\n",
    "        self.movies = self.load_movies()\n",
    "        self.user_ratting_movies = pd.merge(self.ratings, self.movies, on='movie_id')\n",
    "        \n",
    "# 使用示例\n",
    "db = MemDatabase(data_path=\"./\")\n",
    "db.load_data()"
   ]
  },
  {
   "cell_type": "code",
   "execution_count": 13,
   "metadata": {},
   "outputs": [
    {
     "name": "stdout",
     "output_type": "stream",
     "text": [
      "[{'user_id': 1345, 'movie_id': 2889, 'rating': 1, 'timestamp': 974775450, 'title': 'Mystery, Alaska (1999)', 'genres': 'Comedy'}, {'user_id': 1345, 'movie_id': 514, 'rating': 2, 'timestamp': 974773583, 'title': 'Ref, The (1994)', 'genres': 'Comedy'}, {'user_id': 1345, 'movie_id': 380, 'rating': 4, 'timestamp': 974774382, 'title': 'True Lies (1994)', 'genres': 'Action'}, {'user_id': 1345, 'movie_id': 2571, 'rating': 5, 'timestamp': 974776880, 'title': 'Matrix, The (1999)', 'genres': 'Action'}, {'user_id': 1345, 'movie_id': 153, 'rating': 5, 'timestamp': 974775947, 'title': 'Batman Forever (1995)', 'genres': 'Action'}]\n"
     ]
    }
   ],
   "source": [
    "import json\n",
    "\n",
    "tbl_ratting_movies = db.user_ratting_movies\n",
    "\n",
    "N_MAX = 5\n",
    "\n",
    "filter_user_id = 1345\n",
    "\n",
    "json_str = tbl_ratting_movies[ tbl_ratting_movies['user_id'] == filter_user_id ]  \\\n",
    "            .sample(n=N_MAX, random_state=42) \\\n",
    "            .to_json(orient='records')\n",
    "\n",
    "movies = json.loads(json_str)\n",
    "\n",
    "print(movies)"
   ]
  },
  {
   "cell_type": "code",
   "execution_count": 25,
   "metadata": {},
   "outputs": [],
   "source": [
    "item_embs = np.load(\"model/item_embs.npy\")\n",
    "user_embs = np.load(\"model/user_embs.npy\")\n",
    "user_id_idx = np.load(\"model/user_id_idx.npy\")\n",
    "movie_id_idx = np.load(\"model/movie_id_idx.npy\")"
   ]
  },
  {
   "cell_type": "code",
   "execution_count": 27,
   "metadata": {},
   "outputs": [],
   "source": [
    "embedding_dim = 64\n",
    "\n",
    "# 构建user_id和embedding的KV\n",
    "user_id_emb_dict = {}\n",
    "\n",
    "for index, value in enumerate(user_id_idx):\n",
    "    user_id_emb_dict[user_id_idx[index]] = user_embs[index]\n",
    "\n",
    "# 加载所有的item 构建user_id和embedding的KV\n",
    "faiss_index = faiss.IndexFlatIP(embedding_dim)\n",
    "faiss_index.add(item_embs)"
   ]
  },
  {
   "cell_type": "code",
   "execution_count": 33,
   "metadata": {},
   "outputs": [
    {
     "name": "stdout",
     "output_type": "stream",
     "text": [
      "[39, 2129, 2167, 1744, 1174, 21, 217, 2959, 1, 1100, 993, 348, 333, 2192, 1706, 2893, 2496, 1505, 1450, 2198, 2203, 1619, 2163, 484, 1415, 347, 615, 575, 1084, 34, 2132, 1088, 1399, 336, 229, 1704, 538, 428, 121, 1735, 1126, 2487, 1928, 45, 2846, 2204, 2899, 2098, 1385, 175, 427, 339, 2401, 2555, 3509, 2962, 2348, 3030, 549, 1585, 2786, 671, 151, 2091, 2658, 1594, 458, 1737, 1343, 2839, 2111, 695, 3567, 2470, 1179, 11, 1691, 1134, 226, 1398, 1313, 2673, 1294, 1152, 2376, 786, 2514, 51, 1108, 1696, 650, 1667, 2309, 1991, 102, 3032, 1989, 978, 2942, 1599]\n"
     ]
    }
   ],
   "source": [
    "# 根据user id查询\n",
    "\n",
    "TOP_N = 100\n",
    "\n",
    "user_id = 1345\n",
    "user_emb_query = [ user_id_emb_dict[user_id] ]\n",
    "D, I = faiss_index.search(np.ascontiguousarray(user_emb_query), TOP_N)\n",
    "search_idx_result = I[0]\n",
    "movie_ids = []\n",
    "for idx in search_idx_result:\n",
    "    movie_ids.append(movie_id_idx[idx])\n",
    "    \n",
    "print(movie_ids)"
   ]
  },
  {
   "cell_type": "code",
   "execution_count": 35,
   "metadata": {},
   "outputs": [
    {
     "data": {
      "text/html": [
       "<div>\n",
       "<style scoped>\n",
       "    .dataframe tbody tr th:only-of-type {\n",
       "        vertical-align: middle;\n",
       "    }\n",
       "\n",
       "    .dataframe tbody tr th {\n",
       "        vertical-align: top;\n",
       "    }\n",
       "\n",
       "    .dataframe thead th {\n",
       "        text-align: right;\n",
       "    }\n",
       "</style>\n",
       "<table border=\"1\" class=\"dataframe\">\n",
       "  <thead>\n",
       "    <tr style=\"text-align: right;\">\n",
       "      <th></th>\n",
       "      <th>movie_id</th>\n",
       "      <th>title</th>\n",
       "      <th>genres</th>\n",
       "    </tr>\n",
       "  </thead>\n",
       "  <tbody>\n",
       "    <tr>\n",
       "      <th>0</th>\n",
       "      <td>1</td>\n",
       "      <td>Toy Story (1995)</td>\n",
       "      <td>Animation</td>\n",
       "    </tr>\n",
       "    <tr>\n",
       "      <th>10</th>\n",
       "      <td>11</td>\n",
       "      <td>American President, The (1995)</td>\n",
       "      <td>Comedy</td>\n",
       "    </tr>\n",
       "    <tr>\n",
       "      <th>20</th>\n",
       "      <td>21</td>\n",
       "      <td>Get Shorty (1995)</td>\n",
       "      <td>Action</td>\n",
       "    </tr>\n",
       "    <tr>\n",
       "      <th>33</th>\n",
       "      <td>34</td>\n",
       "      <td>Babe (1995)</td>\n",
       "      <td>Children's</td>\n",
       "    </tr>\n",
       "    <tr>\n",
       "      <th>38</th>\n",
       "      <td>39</td>\n",
       "      <td>Clueless (1995)</td>\n",
       "      <td>Comedy</td>\n",
       "    </tr>\n",
       "  </tbody>\n",
       "</table>\n",
       "</div>"
      ],
      "text/plain": [
       "    movie_id                           title      genres\n",
       "0          1                Toy Story (1995)   Animation\n",
       "10        11  American President, The (1995)      Comedy\n",
       "20        21               Get Shorty (1995)      Action\n",
       "33        34                     Babe (1995)  Children's\n",
       "38        39                 Clueless (1995)      Comedy"
      ]
     },
     "execution_count": 35,
     "metadata": {},
     "output_type": "execute_result"
    }
   ],
   "source": [
    "tbl_movies = db.movies\n",
    "\n",
    "filtered_df = tbl_movies[tbl_movies['movie_id'].isin(movie_ids)]\n",
    "filtered_df.head()"
   ]
  },
  {
   "cell_type": "code",
   "execution_count": null,
   "metadata": {},
   "outputs": [],
   "source": []
  }
 ],
 "metadata": {
  "kernelspec": {
   "display_name": "Python 3",
   "language": "python",
   "name": "python3"
  },
  "language_info": {
   "codemirror_mode": {
    "name": "ipython",
    "version": 3
   },
   "file_extension": ".py",
   "mimetype": "text/x-python",
   "name": "python",
   "nbconvert_exporter": "python",
   "pygments_lexer": "ipython3",
   "version": "3.6.9"
  }
 },
 "nbformat": 4,
 "nbformat_minor": 2
}
