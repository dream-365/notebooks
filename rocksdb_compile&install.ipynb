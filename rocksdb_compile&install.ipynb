{
 "cells": [
  {
   "cell_type": "code",
   "execution_count": 1,
   "id": "b038047b-c298-4755-93d9-aa70374f5ebb",
   "metadata": {},
   "outputs": [],
   "source": [
    "from handyhelpers import util_aliyun, util_linux\n",
    "import time\n",
    "\n",
    "# bootstrap\n",
    "bootstrap = util_aliyun.Bootstrap(\"worksapce.config.json\")\n",
    "bootstrap.run()\n",
    "\n",
    "biz_tags = [{\"Key\": \"project\", \"Value\": \"rocksdb\"}]"
   ]
  },
  {
   "cell_type": "code",
   "execution_count": 2,
   "id": "70fd6490-d480-4918-bb51-57b5a41d1b0d",
   "metadata": {},
   "outputs": [],
   "source": [
    "aliyun_ecs_manager = util_aliyun.AliyunECSManager()\n",
    "aliyun_ecs_manager.clean(biz_tags)\n",
    "\n",
    "settings = aliyun_ecs_manager.create_default_settings()\n",
    "settings.set_biz_tags(biz_tags)\n",
    "settings.set_instance_type(\"ecs.g6.large\")\n",
    "\n",
    "vm_property = aliyun_ecs_manager.create_instance(settings)"
   ]
  },
  {
   "cell_type": "code",
   "execution_count": null,
   "id": "b2836fa0-30f5-49f6-98e1-83132db15769",
   "metadata": {},
   "outputs": [],
   "source": [
    "# install the latest ruby\n",
    "cmd_content = \"\"\"\n",
    "sudo yum install -y gcc openssl-devel libyaml-devel libffi-devel readline-devel zlib-devel gdbm-devel ncurses-devel\n",
    "gpg2 --keyserver keyserver.ubuntu.com --recv-keys 409B6B1796C275462A1703113804BB82D39DC0E3 7D2BAF1CF37B13E2069D6956105BD0E739499BDB\n",
    "\"\"\"\n",
    "\n",
    "aliyun_ecs_manager.execute_command(instance_id=vm_property.instance_id,\n",
    "                                  cmd_content=cmd_content, timeout=6000)"
   ]
  },
  {
   "cell_type": "code",
   "execution_count": null,
   "id": "89b3f6d3-6cc0-498c-a764-b45452abf6cd",
   "metadata": {},
   "outputs": [],
   "source": [
    "cmd_content = \"\"\"\n",
    "\\curl -sSL https://get.rvm.io | bash -s stable\n",
    "source /etc/profile\n",
    "rvm install ruby\n",
    "ruby --version\n",
    "rvm --version\n",
    "\"\"\"\n",
    "aliyun_ecs_manager.execute_command(instance_id=vm_property.instance_id,\n",
    "                                  cmd_content=cmd_content, timeout=6000)"
   ]
  },
  {
   "cell_type": "code",
   "execution_count": null,
   "id": "c448ef52-905d-4de4-9dc9-16b5e56f2e29",
   "metadata": {},
   "outputs": [],
   "source": [
    "cmd_content = \"\"\"\n",
    "export PATH=/usr/local/rvm/rubies/ruby-3.0.0/bin:$PATH\n",
    "which ruby\n",
    "ruby --version\n",
    "\"\"\"\n",
    "aliyun_ecs_manager.execute_command(instance_id=vm_property.instance_id,\n",
    "                                  cmd_content=cmd_content, timeout=6000)"
   ]
  },
  {
   "cell_type": "code",
   "execution_count": null,
   "id": "f4192c57-4b86-45de-95a8-f01b6494f66a",
   "metadata": {},
   "outputs": [],
   "source": [
    "cmd_content = \"\"\"\n",
    "sudo yum install -y rpm-build\n",
    "export PATH=/usr/local/rvm/rubies/ruby-3.0.0/bin:$PATH\n",
    "wget https://github.com/facebook/rocksdb/archive/refs/heads/6.17.fb.laser.zip\n",
    "sudo yum install -y gflags* snappy* libzstd* unzip g++\n",
    "unzip 6.17.fb.laser.zip\n",
    "cd rocksdb-6.17.fb.laser\n",
    "make -j16\n",
    "\"\"\"\n",
    "\n",
    "aliyun_ecs_manager.execute_command(instance_id=vm_property.instance_id,\n",
    "                                  cmd_content=cmd_content, timeout=6000)"
   ]
  },
  {
   "cell_type": "code",
   "execution_count": null,
   "id": "d84aad53-71c5-4cc8-95bb-2d9f9e308574",
   "metadata": {},
   "outputs": [],
   "source": [
    "aliyun_ecs_manager.clean(biz_tags)"
   ]
  },
  {
   "cell_type": "code",
   "execution_count": null,
   "id": "27c976e2-58a9-4247-962f-d74c3ec4722c",
   "metadata": {},
   "outputs": [],
   "source": [
    "cmd_content = \"\"\"\n",
    "cd rocksdb-6.17.fb.laser\n",
    "make db_bench\n",
    "\"\"\"\n",
    "\n",
    "aliyun_ecs_manager.execute_command(instance_id=vm_property.instance_id,\n",
    "                                  cmd_content=cmd_content, timeout=6000)"
   ]
  },
  {
   "cell_type": "code",
   "execution_count": null,
   "id": "a602fb94-f450-4609-9ed7-ed18cbc02b6a",
   "metadata": {},
   "outputs": [],
   "source": []
  }
 ],
 "metadata": {
  "kernelspec": {
   "display_name": "Python 3 (ipykernel)",
   "language": "python",
   "name": "python3"
  },
  "language_info": {
   "codemirror_mode": {
    "name": "ipython",
    "version": 3
   },
   "file_extension": ".py",
   "mimetype": "text/x-python",
   "name": "python",
   "nbconvert_exporter": "python",
   "pygments_lexer": "ipython3",
   "version": "3.10.13"
  }
 },
 "nbformat": 4,
 "nbformat_minor": 5
}
