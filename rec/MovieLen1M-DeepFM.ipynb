{
 "cells": [
  {
   "cell_type": "code",
   "execution_count": 10,
   "metadata": {},
   "outputs": [],
   "source": [
    "import pandas as pd\n",
    "import numpy as np\n",
    "import json\n",
    "from sklearn.metrics import mean_squared_error\n",
    "from sklearn.model_selection import train_test_split\n",
    "from deepctr.models import DeepFM\n",
    "from deepctr.feature_column import SparseFeat,get_feature_names"
   ]
  },
  {
   "cell_type": "code",
   "execution_count": 25,
   "metadata": {},
   "outputs": [],
   "source": [
    "def get_model_input(feature_columns, data):\n",
    "    _dict = data[feature_columns].to_dict(orient='list')\n",
    "\n",
    "    for name in feature_columns:\n",
    "        _dict[name] = np.array(_dict[name])\n",
    "        \n",
    "    return _dict\n",
    "\n",
    "def get_fixed_feature_columns(feature_columns, feature_max_idx, n_dim):\n",
    "    _columns = []\n",
    "    \n",
    "    for name in feature_columns:\n",
    "        _columns.append(SparseFeat(name, feature_max_idx[name] + 1, n_dim))\n",
    "        \n",
    "    return _columns"
   ]
  },
  {
   "cell_type": "code",
   "execution_count": 26,
   "metadata": {},
   "outputs": [
    {
     "data": {
      "text/html": [
       "<div>\n",
       "<style scoped>\n",
       "    .dataframe tbody tr th:only-of-type {\n",
       "        vertical-align: middle;\n",
       "    }\n",
       "\n",
       "    .dataframe tbody tr th {\n",
       "        vertical-align: top;\n",
       "    }\n",
       "\n",
       "    .dataframe thead th {\n",
       "        text-align: right;\n",
       "    }\n",
       "</style>\n",
       "<table border=\"1\" class=\"dataframe\">\n",
       "  <thead>\n",
       "    <tr style=\"text-align: right;\">\n",
       "      <th></th>\n",
       "      <th>user_id</th>\n",
       "      <th>movie_id</th>\n",
       "      <th>rating</th>\n",
       "      <th>timestamp</th>\n",
       "      <th>title</th>\n",
       "      <th>genres</th>\n",
       "      <th>gender</th>\n",
       "      <th>age</th>\n",
       "      <th>occupation</th>\n",
       "      <th>zip</th>\n",
       "      <th>watch_movie_seq</th>\n",
       "      <th>watch_genre_seq</th>\n",
       "      <th>seq_len</th>\n",
       "    </tr>\n",
       "  </thead>\n",
       "  <tbody>\n",
       "    <tr>\n",
       "      <th>0</th>\n",
       "      <td>5505</td>\n",
       "      <td>355</td>\n",
       "      <td>4</td>\n",
       "      <td>959732229</td>\n",
       "      <td>Lion King, The (1994)</td>\n",
       "      <td>3</td>\n",
       "      <td>1</td>\n",
       "      <td>3</td>\n",
       "      <td>5</td>\n",
       "      <td>107</td>\n",
       "      <td>[581, 741, 958, 1916, 1839, 968, 1, 2899, 2484...</td>\n",
       "      <td>[3, 3, 3, 3, 3, 3, 3, 3, 3, 3, 1, 3, 6, 6, 10,...</td>\n",
       "      <td>33</td>\n",
       "    </tr>\n",
       "    <tr>\n",
       "      <th>1</th>\n",
       "      <td>4446</td>\n",
       "      <td>1125</td>\n",
       "      <td>2</td>\n",
       "      <td>965089335</td>\n",
       "      <td>Alien (1979)</td>\n",
       "      <td>1</td>\n",
       "      <td>2</td>\n",
       "      <td>2</td>\n",
       "      <td>19</td>\n",
       "      <td>2047</td>\n",
       "      <td>[2064, 3208, 633, 1963, 3257, 2, 309, 59, 1788...</td>\n",
       "      <td>[1, 1, 1, 2, 2, 2, 4, 2, 2, 1, 2, 2, 5, 3, 2, ...</td>\n",
       "      <td>50</td>\n",
       "    </tr>\n",
       "    <tr>\n",
       "      <th>2</th>\n",
       "      <td>2231</td>\n",
       "      <td>673</td>\n",
       "      <td>5</td>\n",
       "      <td>974602217</td>\n",
       "      <td>Faces (1968)</td>\n",
       "      <td>8</td>\n",
       "      <td>2</td>\n",
       "      <td>6</td>\n",
       "      <td>12</td>\n",
       "      <td>2680</td>\n",
       "      <td>[3427, 2953, 3546, 2799, 3185, 3229, 149, 3237...</td>\n",
       "      <td>[8, 2, 8, 8, 8, 2, 8, 8, 8, 8, 6, 8, 8, 8, 8, ...</td>\n",
       "      <td>50</td>\n",
       "    </tr>\n",
       "    <tr>\n",
       "      <th>3</th>\n",
       "      <td>4942</td>\n",
       "      <td>2439</td>\n",
       "      <td>4</td>\n",
       "      <td>962642043</td>\n",
       "      <td>Superman (1978)</td>\n",
       "      <td>1</td>\n",
       "      <td>2</td>\n",
       "      <td>5</td>\n",
       "      <td>13</td>\n",
       "      <td>1356</td>\n",
       "      <td>[1730, 2427, 2262, 2461, 2215, 3459, 2335, 151...</td>\n",
       "      <td>[13, 1, 11, 1, 5, 8, 1, 8, 1, 1, 1, 2, 5, 1, 1...</td>\n",
       "      <td>44</td>\n",
       "    </tr>\n",
       "    <tr>\n",
       "      <th>4</th>\n",
       "      <td>1067</td>\n",
       "      <td>1766</td>\n",
       "      <td>4</td>\n",
       "      <td>974952597</td>\n",
       "      <td>On the Waterfront (1954)</td>\n",
       "      <td>6</td>\n",
       "      <td>2</td>\n",
       "      <td>4</td>\n",
       "      <td>13</td>\n",
       "      <td>3082</td>\n",
       "      <td>[2480, 1140, 241, 2786, 3271, 864, 1130, 2899,...</td>\n",
       "      <td>[8, 5, 8, 5, 8, 8, 11, 3, 15, 15, 10, 8, 5, 3,...</td>\n",
       "      <td>50</td>\n",
       "    </tr>\n",
       "  </tbody>\n",
       "</table>\n",
       "</div>"
      ],
      "text/plain": [
       "   user_id  movie_id  rating  timestamp                     title  genres  \\\n",
       "0     5505       355       4  959732229     Lion King, The (1994)       3   \n",
       "1     4446      1125       2  965089335              Alien (1979)       1   \n",
       "2     2231       673       5  974602217              Faces (1968)       8   \n",
       "3     4942      2439       4  962642043           Superman (1978)       1   \n",
       "4     1067      1766       4  974952597  On the Waterfront (1954)       6   \n",
       "\n",
       "   gender  age  occupation   zip  \\\n",
       "0       1    3           5   107   \n",
       "1       2    2          19  2047   \n",
       "2       2    6          12  2680   \n",
       "3       2    5          13  1356   \n",
       "4       2    4          13  3082   \n",
       "\n",
       "                                     watch_movie_seq  \\\n",
       "0  [581, 741, 958, 1916, 1839, 968, 1, 2899, 2484...   \n",
       "1  [2064, 3208, 633, 1963, 3257, 2, 309, 59, 1788...   \n",
       "2  [3427, 2953, 3546, 2799, 3185, 3229, 149, 3237...   \n",
       "3  [1730, 2427, 2262, 2461, 2215, 3459, 2335, 151...   \n",
       "4  [2480, 1140, 241, 2786, 3271, 864, 1130, 2899,...   \n",
       "\n",
       "                                     watch_genre_seq  seq_len  \n",
       "0  [3, 3, 3, 3, 3, 3, 3, 3, 3, 3, 1, 3, 6, 6, 10,...       33  \n",
       "1  [1, 1, 1, 2, 2, 2, 4, 2, 2, 1, 2, 2, 5, 3, 2, ...       50  \n",
       "2  [8, 2, 8, 8, 8, 2, 8, 8, 8, 8, 6, 8, 8, 8, 8, ...       50  \n",
       "3  [13, 1, 11, 1, 5, 8, 1, 8, 1, 1, 1, 2, 5, 1, 1...       44  \n",
       "4  [8, 5, 8, 5, 8, 8, 11, 3, 15, 15, 10, 8, 5, 3,...       50  "
      ]
     },
     "execution_count": 26,
     "metadata": {},
     "output_type": "execute_result"
    }
   ],
   "source": [
    "# 加载训练样本与测试样本\n",
    "train_df = pd.read_parquet('ml1M-train.parquet', engine='pyarrow')\n",
    "test_df = pd.read_parquet('ml1M-test.parquet', engine='pyarrow')\n",
    "\n",
    "with open('ml1M_feature_max_idx.json', 'r') as json_file:\n",
    "    feature_max_idx = json.load(json_file)\n",
    "    feature_max_idx[\"rating\"] = 5\n",
    "    \n",
    "train_df.head()"
   ]
  },
  {
   "cell_type": "code",
   "execution_count": 27,
   "metadata": {},
   "outputs": [],
   "source": [
    "# 构建模型的输入\n",
    "fixlen_feature_columns = ['user_id', 'movie_id', 'genres', 'rating', 'gender', 'age', 'occupation', 'zip']\n",
    "target = ['rating']\n",
    "train_model_input = get_model_input(fixlen_feature_columns, train_df)\n",
    "test_model_input = get_model_input(fixlen_feature_columns, test_df)\n",
    "fixlen_feature_columns = get_fixed_feature_columns(fixlen_feature_columns, feature_max_idx, n_dim=4)"
   ]
  },
  {
   "cell_type": "code",
   "execution_count": 29,
   "metadata": {},
   "outputs": [],
   "source": [
    "# DeepFM模型构建\n",
    "linear_feature_columns = fixlen_feature_columns\n",
    "dnn_feature_columns = fixlen_feature_columns\n",
    "\n",
    "model = DeepFM(linear_feature_columns, dnn_feature_columns, task='regression')\n",
    "model.compile(\"adam\", \"mse\", metrics=['mse'], )"
   ]
  },
  {
   "cell_type": "code",
   "execution_count": 30,
   "metadata": {},
   "outputs": [
    {
     "name": "stdout",
     "output_type": "stream",
     "text": [
      "Epoch 1/10\n",
      "2814/2814 - 6s - loss: 0.1128 - mse: 0.1128 - val_loss: 4.6847e-05 - val_mse: 8.9520e-06\n",
      "Epoch 2/10\n",
      "2814/2814 - 5s - loss: 6.7540e-05 - mse: 3.9774e-05 - val_loss: 3.0285e-04 - val_mse: 2.8457e-04\n",
      "Epoch 3/10\n",
      "2814/2814 - 5s - loss: 1.4338e-04 - mse: 1.2849e-04 - val_loss: 7.8458e-05 - val_mse: 6.0494e-05\n",
      "Epoch 4/10\n",
      "2814/2814 - 5s - loss: 1.6168e-04 - mse: 1.4149e-04 - val_loss: 1.3720e-04 - val_mse: 1.0663e-04\n",
      "Epoch 5/10\n",
      "2814/2814 - 5s - loss: 1.5907e-04 - mse: 1.3169e-04 - val_loss: 1.7109e-04 - val_mse: 1.4189e-04\n",
      "Epoch 6/10\n",
      "2814/2814 - 5s - loss: 1.5024e-04 - mse: 1.2377e-04 - val_loss: 1.4935e-04 - val_mse: 1.2794e-04\n",
      "Epoch 7/10\n",
      "2814/2814 - 5s - loss: 1.3862e-04 - mse: 1.1257e-04 - val_loss: 1.1233e-04 - val_mse: 1.0250e-04\n",
      "Epoch 8/10\n",
      "2814/2814 - 5s - loss: 1.3675e-04 - mse: 1.1083e-04 - val_loss: 1.6253e-04 - val_mse: 1.4622e-04\n",
      "Epoch 9/10\n",
      "2814/2814 - 5s - loss: 1.3157e-04 - mse: 1.0590e-04 - val_loss: 4.2893e-05 - val_mse: 2.4776e-05\n",
      "Epoch 10/10\n",
      "2814/2814 - 5s - loss: 1.2248e-04 - mse: 9.7825e-05 - val_loss: 2.5064e-05 - val_mse: 1.9127e-05\n",
      "test MSE 0.0\n"
     ]
    }
   ],
   "source": [
    "# 训练模型\n",
    "history = model.fit(train_model_input, train_df[target].values,\n",
    "                        batch_size=256, epochs=10, verbose=2, validation_split=0.2, )"
   ]
  },
  {
   "cell_type": "code",
   "execution_count": 32,
   "metadata": {},
   "outputs": [
    {
     "name": "stdout",
     "output_type": "stream",
     "text": [
      "test MSE 0.0\n"
     ]
    }
   ],
   "source": [
    "pred_ans = model.predict(test_model_input, batch_size=256)\n",
    "print(\"test MSE\", round(mean_squared_error(test_df[target].values, pred_ans), 4))"
   ]
  },
  {
   "cell_type": "code",
   "execution_count": 39,
   "metadata": {},
   "outputs": [
    {
     "data": {
      "text/plain": [
       "array([4.0016527], dtype=float32)"
      ]
     },
     "execution_count": 39,
     "metadata": {},
     "output_type": "execute_result"
    }
   ],
   "source": [
    "pred_ans[1001]"
   ]
  },
  {
   "cell_type": "code",
   "execution_count": 40,
   "metadata": {},
   "outputs": [
    {
     "data": {
      "text/plain": [
       "array([4])"
      ]
     },
     "execution_count": 40,
     "metadata": {},
     "output_type": "execute_result"
    }
   ],
   "source": [
    "test_df[target].values[1001]"
   ]
  },
  {
   "cell_type": "code",
   "execution_count": null,
   "metadata": {},
   "outputs": [],
   "source": []
  }
 ],
 "metadata": {
  "kernelspec": {
   "display_name": "Python 3",
   "language": "python",
   "name": "python3"
  },
  "language_info": {
   "codemirror_mode": {
    "name": "ipython",
    "version": 3
   },
   "file_extension": ".py",
   "mimetype": "text/x-python",
   "name": "python",
   "nbconvert_exporter": "python",
   "pygments_lexer": "ipython3",
   "version": "3.6.9"
  }
 },
 "nbformat": 4,
 "nbformat_minor": 2
}
